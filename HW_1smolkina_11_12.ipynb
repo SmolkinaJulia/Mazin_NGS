{
  "cells": [
    {
      "cell_type": "markdown",
      "metadata": {
        "id": "y01YPymo6e48"
      },
      "source": [
        "мАБДМ21\n",
        "\n",
        "\n",
        "Смолкина Ю.А\n",
        "\n",
        "\n",
        "Биоинформатика для высокопроизводительного секвенирования\n",
        "\n",
        "ДЗ № 1-3"
      ]
    },
    {
      "cell_type": "markdown",
      "metadata": {
        "id": "B8A3rwvSZR6D"
      },
      "source": [
        "# ДЗ № 1 "
      ]
    },
    {
      "cell_type": "markdown",
      "metadata": {
        "id": "L65v3GUcliCT"
      },
      "source": [
        "##  Скачивание данных\n"
      ]
    },
    {
      "cell_type": "code",
      "execution_count": null,
      "metadata": {
        "id": "s3svw7n9apH3",
        "pycharm": {
          "is_executing": true
        }
      },
      "outputs": [],
      "source": [
        "import time\n",
        "import pandas as pd"
      ]
    },
    {
      "cell_type": "code",
      "execution_count": null,
      "metadata": {
        "colab": {
          "base_uri": "https://localhost:8080/"
        },
        "id": "dsgK30vC8cVT",
        "outputId": "b33dac20-ab8a-4bce-8b5d-f6ff3eb2f24c"
      },
      "outputs": [
        {
          "ename": "ModuleNotFoundError",
          "evalue": "No module named 'google.colab'",
          "output_type": "error",
          "traceback": [
            "\u001b[0;31m---------------------------------------------------------------------------\u001b[0m",
            "\u001b[0;31mModuleNotFoundError\u001b[0m                       Traceback (most recent call last)",
            "Cell \u001b[0;32mIn [17], line 1\u001b[0m\n\u001b[0;32m----> 1\u001b[0m \u001b[38;5;28;01mfrom\u001b[39;00m \u001b[38;5;21;01mgoogle\u001b[39;00m\u001b[38;5;21;01m.\u001b[39;00m\u001b[38;5;21;01mcolab\u001b[39;00m \u001b[38;5;28;01mimport\u001b[39;00m drive\n\u001b[1;32m      2\u001b[0m drive\u001b[38;5;241m.\u001b[39mmount(\u001b[38;5;124m'\u001b[39m\u001b[38;5;124m/content/drive\u001b[39m\u001b[38;5;124m'\u001b[39m)\n",
            "\u001b[0;31mModuleNotFoundError\u001b[0m: No module named 'google.colab'"
          ]
        }
      ],
      "source": [
        "from google.colab import drive\n",
        "drive.mount('/content/drive')"
      ]
    },
    {
      "cell_type": "code",
      "execution_count": null,
      "metadata": {
        "id": "dTvv6FOceJvT"
      },
      "outputs": [],
      "source": [
        "!ls -lh /content/drive/MyDrive/HSE/Sem_3/mazin/rn.seq.data"
      ]
    },
    {
      "cell_type": "code",
      "execution_count": null,
      "metadata": {
        "id": "j-K1wPpFCurg"
      },
      "outputs": [],
      "source": [
        "ls -1q /content/drive/MyDrive/HSE/Sem_3/mazin/rn.seq.data/* | wc -l"
      ]
    },
    {
      "cell_type": "code",
      "execution_count": null,
      "metadata": {
        "id": "L6QEVFWK-Ftb"
      },
      "outputs": [],
      "source": [
        "!zcat /content/drive/MyDrive/HSE/Sem_3/mazin/02.rna-seq1-20221001T122824Z-001.zip | head -n 4"
      ]
    },
    {
      "cell_type": "code",
      "execution_count": null,
      "metadata": {
        "id": "NpOdTjJbiD1J"
      },
      "outputs": [],
      "source": [
        "%cd /content/drive/MyDrive/HSE/Sem_3/mazin\n",
        "!pwd"
      ]
    },
    {
      "cell_type": "code",
      "execution_count": null,
      "metadata": {
        "id": "t0WDoHeHiRv1"
      },
      "outputs": [],
      "source": [
        "%cd /content\n",
        "!pwd"
      ]
    },
    {
      "cell_type": "code",
      "execution_count": null,
      "metadata": {
        "id": "BEFbIBsc-YCj"
      },
      "outputs": [],
      "source": [
        "!wget http://ftp.ensembl.org/pub/release-107/fasta/mus_musculus/dna/Mus_musculus.GRCm39.dna.chromosome.19.fa.gz"
      ]
    },
    {
      "cell_type": "markdown",
      "metadata": {
        "id": "Nf05CGcHmcrd"
      },
      "source": [
        "## Установка пакетов\n"
      ]
    },
    {
      "cell_type": "code",
      "execution_count": null,
      "metadata": {
        "id": "Y58fvk4zZ9ri"
      },
      "outputs": [],
      "source": [
        "#!rm -r /content/sample_data"
      ]
    },
    {
      "cell_type": "code",
      "execution_count": null,
      "metadata": {
        "id": "CRFE7A2opZh5"
      },
      "outputs": [],
      "source": [
        "!conda install -c bioconda bedtools"
      ]
    },
    {
      "cell_type": "code",
      "execution_count": null,
      "metadata": {
        "id": "9iG-2_aR-mDG"
      },
      "outputs": [],
      "source": [
        "!mkdir index\n",
        "!mv Mus_musculus.GRCm39.dna.chromosome.19.fa.gz index/"
      ]
    },
    {
      "cell_type": "code",
      "execution_count": null,
      "metadata": {
        "id": "-7AIPKtt-uY5"
      },
      "outputs": [],
      "source": [
        "%cd index"
      ]
    },
    {
      "cell_type": "code",
      "execution_count": null,
      "metadata": {
        "id": "UT9VQDKt-xyK"
      },
      "outputs": [],
      "source": [
        "!pwd"
      ]
    },
    {
      "cell_type": "code",
      "execution_count": null,
      "metadata": {
        "id": "_vEEmGRUev7J"
      },
      "outputs": [],
      "source": [
        "%cd ../"
      ]
    },
    {
      "cell_type": "code",
      "execution_count": null,
      "metadata": {
        "id": "3-gP6Juoe3pt"
      },
      "outputs": [],
      "source": [
        "!mkdir bin\n",
        "%cd bin"
      ]
    },
    {
      "cell_type": "code",
      "execution_count": null,
      "metadata": {
        "id": "17PGwDHjfaVb"
      },
      "outputs": [],
      "source": [
        "!pip install -q condacolab\n",
        "import condacolab\n",
        "condacolab.install()"
      ]
    },
    {
      "cell_type": "code",
      "execution_count": null,
      "metadata": {
        "id": "THwvpMUie78G"
      },
      "outputs": [],
      "source": [
        "!conda install -y -c bioconda fastqc"
      ]
    },
    {
      "cell_type": "code",
      "execution_count": null,
      "metadata": {
        "colab": {
          "base_uri": "https://localhost:8080/"
        },
        "id": "2y0An-YBd7sg",
        "outputId": "8028cb86-6d99-4f29-e766-baf5b73c9b15"
      },
      "outputs": [
        {
          "name": "stdout",
          "output_type": "stream",
          "text": [
            "Collecting package metadata (current_repodata.json): done\n",
            "Solving environment: \\ \n",
            "The environment is inconsistent, please check the package plan carefully\n",
            "The following packages are causing the inconsistency:\n",
            "\n",
            "  - defaults/osx-64::holoviews==1.15.0=py39hecd8cb5_0\n",
            "  - defaults/noarch::conda-pack==0.6.0=pyhd3eb1b0_0\n",
            "  - defaults/noarch::tifffile==2021.7.2=pyhd3eb1b0_2\n",
            "  - defaults/noarch::tensorboard-plugin-wit==1.6.0=py_0\n",
            "  - defaults/osx-64::imageio==2.19.3=py39hecd8cb5_0\n",
            "  - defaults/osx-64::scikit-learn==1.0.2=py39hae1ba45_1\n",
            "  - defaults/noarch::opt_einsum==3.3.0=pyhd3eb1b0_1\n",
            "  - defaults/noarch::arrow==1.2.2=pyhd3eb1b0_0\n",
            "  - defaults/osx-64::mkl-service==2.4.0=py39h9ed2024_0\n",
            "  - defaults/noarch::requests-file==1.5.1=pyhd3eb1b0_0\n",
            "  - defaults/noarch::google-auth==2.6.0=pyhd3eb1b0_0\n",
            "  - defaults/osx-64::botocore==1.27.28=py39hecd8cb5_0\n",
            "  - defaults/osx-64::bottleneck==1.3.5=py39h67323c0_0\n",
            "  - defaults/osx-64::scipy==1.7.3=py39h214d14d_2\n",
            "  - defaults/osx-64::yarl==1.8.1=py39hca72f7f_0\n",
            "  - defaults/noarch::nbclassic==0.3.5=pyhd3eb1b0_0\n",
            "  - defaults/noarch::asttokens==2.0.5=pyhd3eb1b0_0\n",
            "  - defaults/noarch::cookiecutter==1.7.3=pyhd3eb1b0_0\n",
            "  - defaults/osx-64::keras==2.9.0=py39hecd8cb5_0\n",
            "  - defaults/osx-64::scikit-image==0.19.2=py39hae1ba45_0\n",
            "  - defaults/noarch::itemloaders==1.0.4=pyhd3eb1b0_1\n",
            "  - defaults/osx-64::anaconda-project==0.11.1=py39hecd8cb5_0\n",
            "  - conda-forge/osx-64::pymde==0.1.15=py39h86b5767_0\n",
            "  - defaults/osx-64::_anaconda_depends==2022.05=py39_0\n",
            "  - defaults/osx-64::aiohttp==3.8.1=py39hca72f7f_1\n",
            "  - defaults/osx-64::datashape==0.5.4=py39hecd8cb5_1\n",
            "  - defaults/osx-64::google-cloud-core==2.3.2=py39hecd8cb5_0\n",
            "  - defaults/osx-64::boto3==1.24.28=py39hecd8cb5_0\n",
            "  - defaults/noarch::keras-preprocessing==1.1.2=pyhd3eb1b0_0\n",
            "  - defaults/osx-64::mkl_random==1.2.2=py39hb2f4e1b_0\n",
            "  - defaults/osx-64::multipledispatch==0.6.0=py39hecd8cb5_0\n",
            "  - defaults/noarch::backports.functools_lru_cache==1.6.4=pyhd3eb1b0_0\n",
            "  - defaults/osx-64::numexpr==2.8.3=py39h2e5f0a9_0\n",
            "  - defaults/osx-64::imagecodecs==2021.8.26=py39h0f85e6e_1\n",
            "  - defaults/noarch::google-resumable-media==1.3.1=pyhd3eb1b0_1\n",
            "  - defaults/noarch::binaryornot==0.4.4=pyhd3eb1b0_1\n",
            "  - defaults/noarch::pyls-spyder==0.4.0=pyhd3eb1b0_0\n",
            "  - defaults/osx-64::h5py==3.7.0=py39h4a1dd59_0\n",
            "  - defaults/osx-64::pywavelets==1.3.0=py39hca72f7f_0\n",
            "  - defaults/osx-64::scikit-learn-intelex==2021.6.0=py39hecd8cb5_0\n",
            "  - defaults/osx-64::numpy==1.21.5=py39h2e5f0a9_3\n",
            "  - defaults/osx-64::jupyterlab==3.4.4=py39hecd8cb5_0\n",
            "  - defaults/noarch::pyhamcrest==2.0.2=pyhd3eb1b0_2\n",
            "  - defaults/osx-64::datashader==0.14.1=py39hecd8cb5_0\n",
            "  - defaults/osx-64::nbclient==0.5.13=py39hecd8cb5_0\n",
            "  - defaults/osx-64::scrapy==2.6.2=py39hecd8cb5_0\n",
            "  - defaults/noarch::jinja2==2.11.3=pyhd3eb1b0_0\n",
            "  - defaults/osx-64::matplotlib==3.5.2=py39hecd8cb5_0\n",
            "  - defaults/osx-64::hvplot==0.8.0=py39hecd8cb5_0\n",
            "  - defaults/osx-64::parsel==1.6.0=py39hecd8cb5_0\n",
            "  - defaults/noarch::nltk==3.7=pyhd3eb1b0_0\n",
            "  - defaults/osx-64::googleapis-common-protos==1.56.4=py39hecd8cb5_0\n",
            "  - defaults/osx-64::python-lsp-black==1.2.1=py39hecd8cb5_0\n",
            "  - defaults/osx-64::numpy-base==1.21.5=py39h3b1a694_3\n",
            "  - defaults/osx-64::websocket-client==0.58.0=py39hecd8cb5_4\n",
            "  - defaults/osx-64::tensorboard==2.9.0=py39hecd8cb5_0\n",
            "  - defaults/noarch::astunparse==1.6.3=py_0\n",
            "  - defaults/osx-64::bkcharts==0.2=py39hecd8cb5_1\n",
            "  - defaults/osx-64::google-cloud-storage==1.43.0=py39hecd8cb5_0\n",
            "  - defaults/osx-64::qtconsole==5.3.2=py39hecd8cb5_0\n",
            "  - defaults/osx-64::ipython==7.31.1=py39hecd8cb5_1\n",
            "  - defaults/osx-64::patsy==0.5.2=py39hecd8cb5_1\n",
            "  - defaults/osx-64::conda-build==3.22.0=py39hecd8cb5_0\n",
            "  - defaults/osx-64::sphinx==5.0.2=py39hecd8cb5_0\n",
            "  - defaults/noarch::python-dateutil==2.8.2=pyhd3eb1b0_0\n",
            "  - conda-forge/noarch::pynndescent==0.5.7=pyh6c4a22f_0\n",
            "  - defaults/osx-64::anaconda-navigator==2.3.2=py39hecd8cb5_0\n",
            "  - defaults/osx-64::grpcio==1.42.0=py39ha29bfda_0\n",
            "  - defaults/osx-64::bcrypt==3.2.0=py39hca72f7f_1\n",
            "  - defaults/osx-64::_ipyw_jlab_nb_ext_conf==0.1.0=py39hecd8cb5_1\n",
            "  - defaults/noarch::prompt_toolkit==3.0.20=hd3eb1b0_0\n",
            "  - defaults/noarch::conda-verify==3.4.2=py_1\n",
            "  - defaults/osx-64::tensorflow-base==2.9.1=eigen_py39h36d2db2_0\n",
            "  - defaults/osx-64::python-lsp-server==1.5.0=py39hecd8cb5_0\n",
            "  - defaults/osx-64::statsmodels==0.13.2=py39hca72f7f_0\n",
            "  - defaults/osx-64::dask==2022.7.0=py39hecd8cb5_0\n",
            "  - defaults/noarch::protego==0.1.16=py_0\n",
            "  - defaults/osx-64::jupyter_server==1.18.1=py39hecd8cb5_0\n",
            "  - defaults/noarch::jinja2-time==0.2.0=pyhd3eb1b0_3\n",
            "  - defaults/osx-64::anaconda-client==1.11.0=py39hecd8cb5_0\n",
            "  - defaults/osx-64::conda-content-trust==0.1.3=py39hecd8cb5_0\n",
            "  - defaults/noarch::w3lib==1.21.0=pyhd3eb1b0_0\n",
            "  - defaults/osx-64::spyder-kernels==2.3.3=py39hecd8cb5_0\n",
            "  - defaults/noarch::jupyterlab_server==2.10.3=pyhd3eb1b0_1\n",
            "  - defaults/osx-64::nbconvert==6.4.4=py39hecd8cb5_0\n",
            "  - defaults/noarch::google-pasta==0.2.0=pyhd3eb1b0_0\n",
            "  - defaults/osx-64::gensim==4.1.2=py39he9d5cce_0\n",
            "  - defaults/osx-64::numpydoc==1.4.0=py39hecd8cb5_0\n",
            "  - defaults/noarch::requests-oauthlib==1.3.0=py_0\n",
            "  - defaults/noarch::bleach==4.1.0=pyhd3eb1b0_0\n",
            "  - defaults/osx-64::zope.interface==5.4.0=py39h9ed2024_0\n",
            "  - defaults/osx-64::numba==0.55.1=py39hae1ba45_0\n",
            "  - defaults/osx-64::s3transfer==0.6.0=py39hecd8cb5_0\n",
            "  - defaults/osx-64::pytables==3.6.1=py39h648f197_1\n",
            "  - defaults/noarch::flask==1.1.2=pyhd3eb1b0_0\n",
            "  - defaults/noarch::intake==0.6.5=pyhd3eb1b0_0\n",
            "  - defaults/noarch::hyperlink==21.0.0=pyhd3eb1b0_0\n",
            "  - defaults/osx-64::pandas==1.4.4=py39he9d5cce_0\n",
            "  - defaults/osx-64::jupyter_client==7.3.4=py39hecd8cb5_0\n",
            "  - defaults/osx-64::pyerfa==2.0.0=py39h9ed2024_0\n",
            "  - defaults/osx-64::navigator-updater==0.3.0=py39hecd8cb5_0\n",
            "  - defaults/osx-64::anyio==3.5.0=py39hecd8cb5_0\n",
            "  - defaults/osx-64::distributed==2022.7.0=py39hecd8cb5_0\n",
            "  - defaults/osx-64::jupyter==1.0.0=py39hecd8cb5_8\n",
            "  - defaults/noarch::ipywidgets==7.6.5=pyhd3eb1b0_1\n",
            "  - defaults/noarch::jupyter_console==6.4.3=pyhd3eb1b0_0\n",
            "  - defaults/osx-64::bokeh==2.4.3=py39hecd8cb5_0\n",
            "  - defaults/osx-64::colorcet==3.0.0=py39hecd8cb5_0\n",
            "  - defaults/osx-64::twisted==22.2.0=py39hca72f7f_1\n",
            "  - defaults/osx-64::mkl_fft==1.3.1=py39h4ab4a9b_0\n",
            "  - defaults/osx-64::conda-repo-cli==1.0.20=py39hecd8cb5_0\n",
            "  - defaults/osx-64::astropy==5.1=py39h67323c0_0\n",
            "  - defaults/osx-64::tensorflow==2.9.1=eigen_py39h00bd434_0\n",
            "  - defaults/osx-64::pyct==0.4.8=py39hecd8cb5_1\n",
            "  - defaults/noarch::seaborn==0.11.2=pyhd3eb1b0_0\n",
            "  - defaults/osx-64::anaconda==custom=py39_1\n",
            "  - defaults/noarch::automat==20.2.0=py_0\n",
            "  - defaults/osx-64::google-api-core==2.10.1=py39hecd8cb5_0\n",
            "  - defaults/osx-64::ipykernel==6.15.2=py39hecd8cb5_0\n",
            "  - defaults/noarch::conda-token==0.4.0=pyhd3eb1b0_0\n",
            "  - conda-forge/noarch::mnist==0.2.2=py_0\n",
            "  - defaults/noarch::service_identity==18.1.0=pyhd3eb1b0_1\n",
            "  - defaults/osx-64::spyder==5.3.3=py39hecd8cb5_0\n",
            "  - conda-forge/osx-64::conda==22.9.0=py39h6e9494a_1\n",
            "  - defaults/noarch::stack_data==0.2.0=pyhd3eb1b0_0\n",
            "  - defaults/osx-64::notebook==6.4.12=py39hecd8cb5_0\n",
            "  - defaults/osx-64::panel==0.13.1=py39hecd8cb5_0\n",
            "  - defaults/noarch::google-auth-oauthlib==0.4.4=pyhd3eb1b0_0\n",
            "  - defaults/osx-64::widgetsnbextension==3.5.2=py39hecd8cb5_0\n",
            "  - defaults/osx-64::terminado==0.13.1=py39hecd8cb5_0\n",
            "  - defaults/osx-64::clyent==1.2.2=py39hecd8cb5_1\n",
            "  - defaults/noarch::tldextract==3.2.0=pyhd3eb1b0_0\n",
            "  - defaults/osx-64::daal4py==2021.6.0=py39h01d92e1_1\n",
            "  - defaults/noarch::xarray==0.20.1=pyhd3eb1b0_1\n",
            "failed with initial frozen solve. Retrying with flexible solve.\n",
            "Solving environment: failed with repodata from current_repodata.json, will retry with next repodata source.\n",
            "Collecting package metadata (repodata.json): done\n",
            "Solving environment: \\ \n",
            "The environment is inconsistent, please check the package plan carefully\n",
            "The following packages are causing the inconsistency:\n",
            "\n",
            "  - defaults/osx-64::holoviews==1.15.0=py39hecd8cb5_0\n",
            "  - defaults/noarch::conda-pack==0.6.0=pyhd3eb1b0_0\n",
            "  - defaults/noarch::tifffile==2021.7.2=pyhd3eb1b0_2\n",
            "  - defaults/noarch::tensorboard-plugin-wit==1.6.0=py_0\n",
            "  - defaults/osx-64::imageio==2.19.3=py39hecd8cb5_0\n",
            "  - defaults/osx-64::scikit-learn==1.0.2=py39hae1ba45_1\n",
            "  - defaults/noarch::opt_einsum==3.3.0=pyhd3eb1b0_1\n",
            "  - defaults/noarch::arrow==1.2.2=pyhd3eb1b0_0\n",
            "  - defaults/osx-64::mkl-service==2.4.0=py39h9ed2024_0\n",
            "  - defaults/noarch::requests-file==1.5.1=pyhd3eb1b0_0\n",
            "  - defaults/noarch::google-auth==2.6.0=pyhd3eb1b0_0\n",
            "  - defaults/osx-64::botocore==1.27.28=py39hecd8cb5_0\n",
            "  - defaults/osx-64::bottleneck==1.3.5=py39h67323c0_0\n",
            "  - defaults/osx-64::scipy==1.7.3=py39h214d14d_2\n",
            "  - defaults/osx-64::yarl==1.8.1=py39hca72f7f_0\n",
            "  - defaults/noarch::nbclassic==0.3.5=pyhd3eb1b0_0\n",
            "  - defaults/noarch::asttokens==2.0.5=pyhd3eb1b0_0\n",
            "  - defaults/noarch::cookiecutter==1.7.3=pyhd3eb1b0_0\n",
            "  - defaults/osx-64::keras==2.9.0=py39hecd8cb5_0\n",
            "  - defaults/osx-64::scikit-image==0.19.2=py39hae1ba45_0\n",
            "  - defaults/noarch::itemloaders==1.0.4=pyhd3eb1b0_1\n",
            "  - defaults/osx-64::anaconda-project==0.11.1=py39hecd8cb5_0\n",
            "  - conda-forge/osx-64::pymde==0.1.15=py39h86b5767_0\n",
            "  - defaults/osx-64::_anaconda_depends==2022.05=py39_0\n",
            "  - defaults/osx-64::aiohttp==3.8.1=py39hca72f7f_1\n",
            "  - defaults/osx-64::datashape==0.5.4=py39hecd8cb5_1\n",
            "  - defaults/osx-64::google-cloud-core==2.3.2=py39hecd8cb5_0\n",
            "  - defaults/osx-64::boto3==1.24.28=py39hecd8cb5_0\n",
            "  - defaults/noarch::keras-preprocessing==1.1.2=pyhd3eb1b0_0\n",
            "  - defaults/osx-64::mkl_random==1.2.2=py39hb2f4e1b_0\n",
            "  - defaults/osx-64::multipledispatch==0.6.0=py39hecd8cb5_0\n",
            "  - defaults/noarch::backports.functools_lru_cache==1.6.4=pyhd3eb1b0_0\n",
            "  - defaults/osx-64::numexpr==2.8.3=py39h2e5f0a9_0\n",
            "  - defaults/osx-64::imagecodecs==2021.8.26=py39h0f85e6e_1\n",
            "  - defaults/noarch::google-resumable-media==1.3.1=pyhd3eb1b0_1\n",
            "  - defaults/noarch::binaryornot==0.4.4=pyhd3eb1b0_1\n",
            "  - defaults/noarch::pyls-spyder==0.4.0=pyhd3eb1b0_0\n",
            "  - defaults/osx-64::h5py==3.7.0=py39h4a1dd59_0\n",
            "  - defaults/osx-64::pywavelets==1.3.0=py39hca72f7f_0\n",
            "  - defaults/osx-64::scikit-learn-intelex==2021.6.0=py39hecd8cb5_0\n",
            "  - defaults/osx-64::numpy==1.21.5=py39h2e5f0a9_3\n",
            "  - defaults/osx-64::jupyterlab==3.4.4=py39hecd8cb5_0\n",
            "  - defaults/noarch::pyhamcrest==2.0.2=pyhd3eb1b0_2\n",
            "  - defaults/osx-64::datashader==0.14.1=py39hecd8cb5_0\n",
            "  - defaults/osx-64::nbclient==0.5.13=py39hecd8cb5_0\n",
            "  - defaults/osx-64::scrapy==2.6.2=py39hecd8cb5_0\n",
            "  - defaults/noarch::jinja2==2.11.3=pyhd3eb1b0_0\n",
            "  - defaults/osx-64::matplotlib==3.5.2=py39hecd8cb5_0\n",
            "  - defaults/osx-64::hvplot==0.8.0=py39hecd8cb5_0\n",
            "  - defaults/osx-64::parsel==1.6.0=py39hecd8cb5_0\n",
            "  - defaults/noarch::nltk==3.7=pyhd3eb1b0_0\n",
            "  - defaults/osx-64::googleapis-common-protos==1.56.4=py39hecd8cb5_0\n",
            "  - defaults/osx-64::python-lsp-black==1.2.1=py39hecd8cb5_0\n",
            "  - defaults/osx-64::numpy-base==1.21.5=py39h3b1a694_3\n",
            "  - defaults/osx-64::websocket-client==0.58.0=py39hecd8cb5_4\n",
            "  - defaults/osx-64::tensorboard==2.9.0=py39hecd8cb5_0\n",
            "  - defaults/noarch::astunparse==1.6.3=py_0\n",
            "  - defaults/osx-64::bkcharts==0.2=py39hecd8cb5_1\n",
            "  - defaults/osx-64::google-cloud-storage==1.43.0=py39hecd8cb5_0\n",
            "  - defaults/osx-64::qtconsole==5.3.2=py39hecd8cb5_0\n",
            "  - defaults/osx-64::ipython==7.31.1=py39hecd8cb5_1\n",
            "  - defaults/osx-64::patsy==0.5.2=py39hecd8cb5_1\n",
            "  - defaults/osx-64::conda-build==3.22.0=py39hecd8cb5_0\n",
            "  - defaults/osx-64::sphinx==5.0.2=py39hecd8cb5_0\n",
            "  - defaults/noarch::python-dateutil==2.8.2=pyhd3eb1b0_0\n",
            "  - conda-forge/noarch::pynndescent==0.5.7=pyh6c4a22f_0\n",
            "  - defaults/osx-64::anaconda-navigator==2.3.2=py39hecd8cb5_0\n",
            "  - defaults/osx-64::grpcio==1.42.0=py39ha29bfda_0\n",
            "  - defaults/osx-64::bcrypt==3.2.0=py39hca72f7f_1\n",
            "  - defaults/osx-64::_ipyw_jlab_nb_ext_conf==0.1.0=py39hecd8cb5_1\n",
            "  - defaults/noarch::prompt_toolkit==3.0.20=hd3eb1b0_0\n",
            "  - defaults/noarch::conda-verify==3.4.2=py_1\n",
            "  - defaults/osx-64::tensorflow-base==2.9.1=eigen_py39h36d2db2_0\n",
            "  - defaults/osx-64::python-lsp-server==1.5.0=py39hecd8cb5_0\n",
            "  - defaults/osx-64::statsmodels==0.13.2=py39hca72f7f_0\n",
            "  - defaults/osx-64::dask==2022.7.0=py39hecd8cb5_0\n",
            "  - defaults/noarch::protego==0.1.16=py_0\n",
            "  - defaults/osx-64::jupyter_server==1.18.1=py39hecd8cb5_0\n",
            "  - defaults/noarch::jinja2-time==0.2.0=pyhd3eb1b0_3\n",
            "  - defaults/osx-64::anaconda-client==1.11.0=py39hecd8cb5_0\n",
            "  - defaults/osx-64::conda-content-trust==0.1.3=py39hecd8cb5_0\n",
            "  - defaults/noarch::w3lib==1.21.0=pyhd3eb1b0_0\n",
            "  - defaults/osx-64::spyder-kernels==2.3.3=py39hecd8cb5_0\n",
            "  - defaults/noarch::jupyterlab_server==2.10.3=pyhd3eb1b0_1\n",
            "  - defaults/osx-64::nbconvert==6.4.4=py39hecd8cb5_0\n",
            "  - defaults/noarch::google-pasta==0.2.0=pyhd3eb1b0_0\n",
            "  - defaults/osx-64::gensim==4.1.2=py39he9d5cce_0\n",
            "  - defaults/osx-64::numpydoc==1.4.0=py39hecd8cb5_0\n",
            "  - defaults/noarch::requests-oauthlib==1.3.0=py_0\n",
            "  - defaults/noarch::bleach==4.1.0=pyhd3eb1b0_0\n",
            "  - defaults/osx-64::zope.interface==5.4.0=py39h9ed2024_0\n",
            "  - defaults/osx-64::numba==0.55.1=py39hae1ba45_0\n",
            "  - defaults/osx-64::s3transfer==0.6.0=py39hecd8cb5_0\n",
            "  - defaults/osx-64::pytables==3.6.1=py39h648f197_1\n",
            "  - defaults/noarch::flask==1.1.2=pyhd3eb1b0_0\n",
            "  - defaults/noarch::intake==0.6.5=pyhd3eb1b0_0\n",
            "  - defaults/noarch::hyperlink==21.0.0=pyhd3eb1b0_0\n",
            "  - defaults/osx-64::pandas==1.4.4=py39he9d5cce_0\n",
            "  - defaults/osx-64::jupyter_client==7.3.4=py39hecd8cb5_0\n",
            "  - defaults/osx-64::pyerfa==2.0.0=py39h9ed2024_0\n",
            "  - defaults/osx-64::navigator-updater==0.3.0=py39hecd8cb5_0\n",
            "  - defaults/osx-64::anyio==3.5.0=py39hecd8cb5_0\n",
            "  - defaults/osx-64::distributed==2022.7.0=py39hecd8cb5_0\n",
            "  - defaults/osx-64::jupyter==1.0.0=py39hecd8cb5_8\n",
            "  - defaults/noarch::ipywidgets==7.6.5=pyhd3eb1b0_1\n",
            "  - defaults/noarch::jupyter_console==6.4.3=pyhd3eb1b0_0\n",
            "  - defaults/osx-64::bokeh==2.4.3=py39hecd8cb5_0\n",
            "  - defaults/osx-64::colorcet==3.0.0=py39hecd8cb5_0\n",
            "  - defaults/osx-64::twisted==22.2.0=py39hca72f7f_1\n",
            "  - defaults/osx-64::mkl_fft==1.3.1=py39h4ab4a9b_0\n",
            "  - defaults/osx-64::conda-repo-cli==1.0.20=py39hecd8cb5_0\n",
            "  - defaults/osx-64::astropy==5.1=py39h67323c0_0\n",
            "  - defaults/osx-64::tensorflow==2.9.1=eigen_py39h00bd434_0\n",
            "  - defaults/osx-64::pyct==0.4.8=py39hecd8cb5_1\n",
            "  - defaults/noarch::seaborn==0.11.2=pyhd3eb1b0_0\n",
            "  - defaults/osx-64::anaconda==custom=py39_1\n",
            "  - defaults/noarch::automat==20.2.0=py_0\n",
            "  - defaults/osx-64::google-api-core==2.10.1=py39hecd8cb5_0\n",
            "  - defaults/osx-64::ipykernel==6.15.2=py39hecd8cb5_0\n",
            "  - defaults/noarch::conda-token==0.4.0=pyhd3eb1b0_0\n",
            "  - conda-forge/noarch::mnist==0.2.2=py_0\n",
            "  - defaults/noarch::service_identity==18.1.0=pyhd3eb1b0_1\n",
            "  - defaults/osx-64::spyder==5.3.3=py39hecd8cb5_0\n",
            "  - conda-forge/osx-64::conda==22.9.0=py39h6e9494a_1\n",
            "  - defaults/noarch::stack_data==0.2.0=pyhd3eb1b0_0\n",
            "  - defaults/osx-64::notebook==6.4.12=py39hecd8cb5_0\n",
            "  - defaults/osx-64::panel==0.13.1=py39hecd8cb5_0\n",
            "  - defaults/noarch::google-auth-oauthlib==0.4.4=pyhd3eb1b0_0\n",
            "  - defaults/osx-64::widgetsnbextension==3.5.2=py39hecd8cb5_0\n",
            "  - defaults/osx-64::terminado==0.13.1=py39hecd8cb5_0\n",
            "  - defaults/osx-64::clyent==1.2.2=py39hecd8cb5_1\n",
            "  - defaults/noarch::tldextract==3.2.0=pyhd3eb1b0_0\n",
            "  - defaults/osx-64::daal4py==2021.6.0=py39h01d92e1_1\n",
            "  - defaults/noarch::xarray==0.20.1=pyhd3eb1b0_1\n",
            "done\n",
            "\n",
            "## Package Plan ##\n",
            "\n",
            "  environment location: /Users/mac-julia/opt/anaconda3\n",
            "\n",
            "  added / updated specs:\n",
            "    - hisat2\n",
            "\n",
            "\n",
            "The following packages will be downloaded:\n",
            "\n",
            "    package                    |            build\n",
            "    ---------------------------|-----------------\n",
            "    gdbm-1.18                  |       hdccc71a_4         142 KB\n",
            "    hisat2-2.2.1               |       h9722bc1_4         2.0 MB  bioconda\n",
            "    perl-5.34.0                |       h435f0c2_2        15.0 MB\n",
            "    ------------------------------------------------------------\n",
            "                                           Total:        17.1 MB\n",
            "\n",
            "The following NEW packages will be INSTALLED:\n",
            "\n",
            "  chardet            pkgs/main/osx-64::chardet-4.0.0-py39hecd8cb5_1003 None\n",
            "  gdbm               pkgs/main/osx-64::gdbm-1.18-hdccc71a_4 None\n",
            "  hisat2             bioconda/osx-64::hisat2-2.2.1-h9722bc1_4 None\n",
            "  idna               pkgs/main/osx-64::idna-3.4-py39hecd8cb5_0 None\n",
            "  joblib             pkgs/main/osx-64::joblib-1.1.1-py39hecd8cb5_0 None\n",
            "  matplotlib-base    pkgs/main/osx-64::matplotlib-base-3.5.2-py39hfb0c5b7_0 None\n",
            "  perl               pkgs/main/osx-64::perl-5.34.0-h435f0c2_2 None\n",
            "  pillow             pkgs/main/osx-64::pillow-9.2.0-py39hde71d04_1 None\n",
            "  pip                pkgs/main/osx-64::pip-22.3.1-py39hecd8cb5_0 None\n",
            "  prompt-toolkit     pkgs/main/noarch::prompt-toolkit-3.0.20-pyhd3eb1b0_0 None\n",
            "  protobuf           pkgs/main/osx-64::protobuf-3.20.1-py39he9d5cce_0 None\n",
            "  pytorch            pkgs/main/osx-64::pytorch-1.12.1-cpu_py39ha26b6ec_0 None\n",
            "  requests           pkgs/main/osx-64::requests-2.28.1-py39hecd8cb5_0 None\n",
            "  setuptools         pkgs/main/osx-64::setuptools-65.5.0-py39hecd8cb5_0 None\n",
            "  six                pkgs/main/noarch::six-1.16.0-pyhd3eb1b0_1 None\n",
            "  torchvision        pkgs/main/osx-64::torchvision-0.13.1-cpu_py39hc47236b_0 None\n",
            "  tornado            pkgs/main/osx-64::tornado-6.1-py39h9ed2024_0 None\n",
            "  urllib3            pkgs/main/osx-64::urllib3-1.26.13-py39hecd8cb5_0 None\n",
            "  wheel              pkgs/main/noarch::wheel-0.35.1-pyhd3eb1b0_0 None\n",
            "\n",
            "The following packages will be UPDATED:\n",
            "\n",
            "  ca-certificates    conda-forge::ca-certificates-2022.9.2~ --> pkgs/main::ca-certificates-2022.10.11-hecd8cb5_0 None\n",
            "  openssl            conda-forge::openssl-1.1.1q-hfd90126_1 --> pkgs/main::openssl-1.1.1s-hca72f7f_0 None\n",
            "\n",
            "The following packages will be SUPERSEDED by a higher-priority channel:\n",
            "\n",
            "  certifi            conda-forge/noarch::certifi-2022.9.24~ --> pkgs/main/osx-64::certifi-2022.9.24-py39hecd8cb5_0 None\n",
            "\n",
            "\n",
            "\n",
            "Downloading and Extracting Packages\n",
            "gdbm-1.18            | 142 KB    | ##################################### | 100% \n",
            "perl-5.34.0          | 15.0 MB   | ##################################### | 100% \n",
            "hisat2-2.2.1         | 2.0 MB    | ##################################### | 100% \n",
            "Preparing transaction: done\n",
            "Verifying transaction: failed\n",
            "\n",
            "RemoveError: 'requests' is a dependency of conda and cannot be removed from\n",
            "conda's operating environment.\n",
            "RemoveError: 'setuptools' is a dependency of conda and cannot be removed from\n",
            "conda's operating environment.\n",
            "\n"
          ]
        }
      ],
      "source": [
        "!conda install -c bioconda hisat2 -y"
      ]
    },
    {
      "cell_type": "code",
      "execution_count": null,
      "metadata": {
        "colab": {
          "base_uri": "https://localhost:8080/"
        },
        "id": "dTnJWZNQd9a7",
        "outputId": "ab0916b6-4eaf-456c-9121-295e9db00ebe"
      },
      "outputs": [
        {
          "name": "stdout",
          "output_type": "stream",
          "text": [
            "Collecting package metadata (current_repodata.json): done\n",
            "Solving environment: | \n",
            "The environment is inconsistent, please check the package plan carefully\n",
            "The following packages are causing the inconsistency:\n",
            "\n",
            "  - defaults/osx-64::holoviews==1.15.0=py39hecd8cb5_0\n",
            "  - defaults/noarch::conda-pack==0.6.0=pyhd3eb1b0_0\n",
            "  - defaults/noarch::tifffile==2021.7.2=pyhd3eb1b0_2\n",
            "  - defaults/noarch::tensorboard-plugin-wit==1.6.0=py_0\n",
            "  - defaults/osx-64::imageio==2.19.3=py39hecd8cb5_0\n",
            "  - defaults/osx-64::scikit-learn==1.0.2=py39hae1ba45_1\n",
            "  - defaults/noarch::opt_einsum==3.3.0=pyhd3eb1b0_1\n",
            "  - defaults/noarch::arrow==1.2.2=pyhd3eb1b0_0\n",
            "  - defaults/osx-64::mkl-service==2.4.0=py39h9ed2024_0\n",
            "  - defaults/noarch::requests-file==1.5.1=pyhd3eb1b0_0\n",
            "  - defaults/noarch::google-auth==2.6.0=pyhd3eb1b0_0\n",
            "  - defaults/osx-64::botocore==1.27.28=py39hecd8cb5_0\n",
            "  - defaults/osx-64::bottleneck==1.3.5=py39h67323c0_0\n",
            "  - defaults/osx-64::scipy==1.7.3=py39h214d14d_2\n",
            "  - defaults/osx-64::yarl==1.8.1=py39hca72f7f_0\n",
            "  - defaults/noarch::nbclassic==0.3.5=pyhd3eb1b0_0\n",
            "  - defaults/noarch::asttokens==2.0.5=pyhd3eb1b0_0\n",
            "  - defaults/noarch::cookiecutter==1.7.3=pyhd3eb1b0_0\n",
            "  - defaults/osx-64::keras==2.9.0=py39hecd8cb5_0\n",
            "  - defaults/osx-64::scikit-image==0.19.2=py39hae1ba45_0\n",
            "  - defaults/noarch::itemloaders==1.0.4=pyhd3eb1b0_1\n",
            "  - defaults/osx-64::anaconda-project==0.11.1=py39hecd8cb5_0\n",
            "  - conda-forge/osx-64::pymde==0.1.15=py39h86b5767_0\n",
            "  - defaults/osx-64::_anaconda_depends==2022.05=py39_0\n",
            "  - defaults/osx-64::aiohttp==3.8.1=py39hca72f7f_1\n",
            "  - defaults/osx-64::datashape==0.5.4=py39hecd8cb5_1\n",
            "  - defaults/osx-64::google-cloud-core==2.3.2=py39hecd8cb5_0\n",
            "  - defaults/osx-64::boto3==1.24.28=py39hecd8cb5_0\n",
            "  - defaults/noarch::keras-preprocessing==1.1.2=pyhd3eb1b0_0\n",
            "  - defaults/osx-64::mkl_random==1.2.2=py39hb2f4e1b_0\n",
            "  - defaults/osx-64::multipledispatch==0.6.0=py39hecd8cb5_0\n",
            "  - defaults/noarch::backports.functools_lru_cache==1.6.4=pyhd3eb1b0_0\n",
            "  - defaults/osx-64::numexpr==2.8.3=py39h2e5f0a9_0\n",
            "  - defaults/osx-64::imagecodecs==2021.8.26=py39h0f85e6e_1\n",
            "  - defaults/noarch::google-resumable-media==1.3.1=pyhd3eb1b0_1\n",
            "  - defaults/noarch::binaryornot==0.4.4=pyhd3eb1b0_1\n",
            "  - defaults/noarch::pyls-spyder==0.4.0=pyhd3eb1b0_0\n",
            "  - defaults/osx-64::h5py==3.7.0=py39h4a1dd59_0\n",
            "  - defaults/osx-64::pywavelets==1.3.0=py39hca72f7f_0\n",
            "  - defaults/osx-64::scikit-learn-intelex==2021.6.0=py39hecd8cb5_0\n",
            "  - defaults/osx-64::numpy==1.21.5=py39h2e5f0a9_3\n",
            "  - defaults/osx-64::jupyterlab==3.4.4=py39hecd8cb5_0\n",
            "  - defaults/noarch::pyhamcrest==2.0.2=pyhd3eb1b0_2\n",
            "  - defaults/osx-64::datashader==0.14.1=py39hecd8cb5_0\n",
            "  - defaults/osx-64::nbclient==0.5.13=py39hecd8cb5_0\n",
            "  - defaults/osx-64::scrapy==2.6.2=py39hecd8cb5_0\n",
            "  - defaults/noarch::jinja2==2.11.3=pyhd3eb1b0_0\n",
            "  - defaults/osx-64::matplotlib==3.5.2=py39hecd8cb5_0\n",
            "  - defaults/osx-64::hvplot==0.8.0=py39hecd8cb5_0\n",
            "  - defaults/osx-64::parsel==1.6.0=py39hecd8cb5_0\n",
            "  - defaults/noarch::nltk==3.7=pyhd3eb1b0_0\n",
            "  - defaults/osx-64::googleapis-common-protos==1.56.4=py39hecd8cb5_0\n",
            "  - defaults/osx-64::python-lsp-black==1.2.1=py39hecd8cb5_0\n",
            "  - defaults/osx-64::numpy-base==1.21.5=py39h3b1a694_3\n",
            "  - defaults/osx-64::websocket-client==0.58.0=py39hecd8cb5_4\n",
            "  - defaults/osx-64::tensorboard==2.9.0=py39hecd8cb5_0\n",
            "  - defaults/noarch::astunparse==1.6.3=py_0\n",
            "  - defaults/osx-64::bkcharts==0.2=py39hecd8cb5_1\n",
            "  - defaults/osx-64::google-cloud-storage==1.43.0=py39hecd8cb5_0\n",
            "  - defaults/osx-64::qtconsole==5.3.2=py39hecd8cb5_0\n",
            "  - defaults/osx-64::ipython==7.31.1=py39hecd8cb5_1\n",
            "  - defaults/osx-64::patsy==0.5.2=py39hecd8cb5_1\n",
            "  - defaults/osx-64::conda-build==3.22.0=py39hecd8cb5_0\n",
            "  - defaults/osx-64::sphinx==5.0.2=py39hecd8cb5_0\n",
            "  - defaults/noarch::python-dateutil==2.8.2=pyhd3eb1b0_0\n",
            "  - conda-forge/noarch::pynndescent==0.5.7=pyh6c4a22f_0\n",
            "  - defaults/osx-64::anaconda-navigator==2.3.2=py39hecd8cb5_0\n",
            "  - defaults/osx-64::grpcio==1.42.0=py39ha29bfda_0\n",
            "  - defaults/osx-64::bcrypt==3.2.0=py39hca72f7f_1\n",
            "  - defaults/osx-64::_ipyw_jlab_nb_ext_conf==0.1.0=py39hecd8cb5_1\n",
            "  - defaults/noarch::prompt_toolkit==3.0.20=hd3eb1b0_0\n",
            "  - defaults/noarch::conda-verify==3.4.2=py_1\n",
            "  - defaults/osx-64::tensorflow-base==2.9.1=eigen_py39h36d2db2_0\n",
            "  - defaults/osx-64::python-lsp-server==1.5.0=py39hecd8cb5_0\n",
            "  - defaults/osx-64::statsmodels==0.13.2=py39hca72f7f_0\n",
            "  - defaults/osx-64::dask==2022.7.0=py39hecd8cb5_0\n",
            "  - defaults/noarch::protego==0.1.16=py_0\n",
            "  - defaults/osx-64::jupyter_server==1.18.1=py39hecd8cb5_0\n",
            "  - defaults/noarch::jinja2-time==0.2.0=pyhd3eb1b0_3\n",
            "  - defaults/osx-64::anaconda-client==1.11.0=py39hecd8cb5_0\n",
            "  - defaults/osx-64::conda-content-trust==0.1.3=py39hecd8cb5_0\n",
            "  - defaults/noarch::w3lib==1.21.0=pyhd3eb1b0_0\n",
            "  - defaults/osx-64::spyder-kernels==2.3.3=py39hecd8cb5_0\n",
            "  - defaults/noarch::jupyterlab_server==2.10.3=pyhd3eb1b0_1\n",
            "  - defaults/osx-64::nbconvert==6.4.4=py39hecd8cb5_0\n",
            "  - defaults/noarch::google-pasta==0.2.0=pyhd3eb1b0_0\n",
            "  - defaults/osx-64::gensim==4.1.2=py39he9d5cce_0\n",
            "  - defaults/osx-64::numpydoc==1.4.0=py39hecd8cb5_0\n",
            "  - defaults/noarch::requests-oauthlib==1.3.0=py_0\n",
            "  - defaults/noarch::bleach==4.1.0=pyhd3eb1b0_0\n",
            "  - defaults/osx-64::zope.interface==5.4.0=py39h9ed2024_0\n",
            "  - defaults/osx-64::numba==0.55.1=py39hae1ba45_0\n",
            "  - defaults/osx-64::s3transfer==0.6.0=py39hecd8cb5_0\n",
            "  - defaults/osx-64::pytables==3.6.1=py39h648f197_1\n",
            "  - defaults/noarch::flask==1.1.2=pyhd3eb1b0_0\n",
            "  - defaults/noarch::intake==0.6.5=pyhd3eb1b0_0\n",
            "  - defaults/noarch::hyperlink==21.0.0=pyhd3eb1b0_0\n",
            "  - defaults/osx-64::pandas==1.4.4=py39he9d5cce_0\n",
            "  - defaults/osx-64::jupyter_client==7.3.4=py39hecd8cb5_0\n",
            "  - defaults/osx-64::pyerfa==2.0.0=py39h9ed2024_0\n",
            "  - defaults/osx-64::navigator-updater==0.3.0=py39hecd8cb5_0\n",
            "  - defaults/osx-64::anyio==3.5.0=py39hecd8cb5_0\n",
            "  - defaults/osx-64::distributed==2022.7.0=py39hecd8cb5_0\n",
            "  - defaults/osx-64::jupyter==1.0.0=py39hecd8cb5_8\n",
            "  - defaults/noarch::ipywidgets==7.6.5=pyhd3eb1b0_1\n",
            "  - defaults/noarch::jupyter_console==6.4.3=pyhd3eb1b0_0\n",
            "  - defaults/osx-64::bokeh==2.4.3=py39hecd8cb5_0\n",
            "  - defaults/osx-64::colorcet==3.0.0=py39hecd8cb5_0\n",
            "  - defaults/osx-64::twisted==22.2.0=py39hca72f7f_1\n",
            "  - defaults/osx-64::mkl_fft==1.3.1=py39h4ab4a9b_0\n",
            "  - defaults/osx-64::conda-repo-cli==1.0.20=py39hecd8cb5_0\n",
            "  - defaults/osx-64::astropy==5.1=py39h67323c0_0\n",
            "  - defaults/osx-64::tensorflow==2.9.1=eigen_py39h00bd434_0\n",
            "  - defaults/osx-64::pyct==0.4.8=py39hecd8cb5_1\n",
            "  - defaults/noarch::seaborn==0.11.2=pyhd3eb1b0_0\n",
            "  - defaults/osx-64::anaconda==custom=py39_1\n",
            "  - defaults/noarch::automat==20.2.0=py_0\n",
            "  - defaults/osx-64::google-api-core==2.10.1=py39hecd8cb5_0\n",
            "  - defaults/osx-64::ipykernel==6.15.2=py39hecd8cb5_0\n",
            "  - defaults/noarch::conda-token==0.4.0=pyhd3eb1b0_0\n",
            "  - conda-forge/noarch::mnist==0.2.2=py_0\n",
            "  - defaults/noarch::service_identity==18.1.0=pyhd3eb1b0_1\n",
            "  - defaults/osx-64::spyder==5.3.3=py39hecd8cb5_0\n",
            "  - conda-forge/osx-64::conda==22.9.0=py39h6e9494a_1\n",
            "  - defaults/noarch::stack_data==0.2.0=pyhd3eb1b0_0\n",
            "  - defaults/osx-64::notebook==6.4.12=py39hecd8cb5_0\n",
            "  - defaults/osx-64::panel==0.13.1=py39hecd8cb5_0\n",
            "  - defaults/noarch::google-auth-oauthlib==0.4.4=pyhd3eb1b0_0\n",
            "  - defaults/osx-64::widgetsnbextension==3.5.2=py39hecd8cb5_0\n",
            "  - defaults/osx-64::terminado==0.13.1=py39hecd8cb5_0\n",
            "  - defaults/osx-64::clyent==1.2.2=py39hecd8cb5_1\n",
            "  - defaults/noarch::tldextract==3.2.0=pyhd3eb1b0_0\n",
            "  - defaults/osx-64::daal4py==2021.6.0=py39h01d92e1_1\n",
            "  - defaults/noarch::xarray==0.20.1=pyhd3eb1b0_1\n",
            "failed with initial frozen solve. Retrying with flexible solve.\n",
            "Solving environment: failed with repodata from current_repodata.json, will retry with next repodata source.\n",
            "Collecting package metadata (repodata.json): done\n",
            "Solving environment: / \n",
            "The environment is inconsistent, please check the package plan carefully\n",
            "The following packages are causing the inconsistency:\n",
            "\n",
            "  - defaults/osx-64::holoviews==1.15.0=py39hecd8cb5_0\n",
            "  - defaults/noarch::conda-pack==0.6.0=pyhd3eb1b0_0\n",
            "  - defaults/noarch::tifffile==2021.7.2=pyhd3eb1b0_2\n",
            "  - defaults/noarch::tensorboard-plugin-wit==1.6.0=py_0\n",
            "  - defaults/osx-64::imageio==2.19.3=py39hecd8cb5_0\n",
            "  - defaults/osx-64::scikit-learn==1.0.2=py39hae1ba45_1\n",
            "  - defaults/noarch::opt_einsum==3.3.0=pyhd3eb1b0_1\n",
            "  - defaults/noarch::arrow==1.2.2=pyhd3eb1b0_0\n",
            "  - defaults/osx-64::mkl-service==2.4.0=py39h9ed2024_0\n",
            "  - defaults/noarch::requests-file==1.5.1=pyhd3eb1b0_0\n",
            "  - defaults/noarch::google-auth==2.6.0=pyhd3eb1b0_0\n",
            "  - defaults/osx-64::botocore==1.27.28=py39hecd8cb5_0\n",
            "  - defaults/osx-64::bottleneck==1.3.5=py39h67323c0_0\n",
            "  - defaults/osx-64::scipy==1.7.3=py39h214d14d_2\n",
            "  - defaults/osx-64::yarl==1.8.1=py39hca72f7f_0\n",
            "  - defaults/noarch::nbclassic==0.3.5=pyhd3eb1b0_0\n",
            "  - defaults/noarch::asttokens==2.0.5=pyhd3eb1b0_0\n",
            "  - defaults/noarch::cookiecutter==1.7.3=pyhd3eb1b0_0\n",
            "  - defaults/osx-64::keras==2.9.0=py39hecd8cb5_0\n",
            "  - defaults/osx-64::scikit-image==0.19.2=py39hae1ba45_0\n",
            "  - defaults/noarch::itemloaders==1.0.4=pyhd3eb1b0_1\n",
            "  - defaults/osx-64::anaconda-project==0.11.1=py39hecd8cb5_0\n",
            "  - conda-forge/osx-64::pymde==0.1.15=py39h86b5767_0\n",
            "  - defaults/osx-64::_anaconda_depends==2022.05=py39_0\n",
            "  - defaults/osx-64::aiohttp==3.8.1=py39hca72f7f_1\n",
            "  - defaults/osx-64::datashape==0.5.4=py39hecd8cb5_1\n",
            "  - defaults/osx-64::google-cloud-core==2.3.2=py39hecd8cb5_0\n",
            "  - defaults/osx-64::boto3==1.24.28=py39hecd8cb5_0\n",
            "  - defaults/noarch::keras-preprocessing==1.1.2=pyhd3eb1b0_0\n",
            "  - defaults/osx-64::mkl_random==1.2.2=py39hb2f4e1b_0\n",
            "  - defaults/osx-64::multipledispatch==0.6.0=py39hecd8cb5_0\n",
            "  - defaults/noarch::backports.functools_lru_cache==1.6.4=pyhd3eb1b0_0\n",
            "  - defaults/osx-64::numexpr==2.8.3=py39h2e5f0a9_0\n",
            "  - defaults/osx-64::imagecodecs==2021.8.26=py39h0f85e6e_1\n",
            "  - defaults/noarch::google-resumable-media==1.3.1=pyhd3eb1b0_1\n",
            "  - defaults/noarch::binaryornot==0.4.4=pyhd3eb1b0_1\n",
            "  - defaults/noarch::pyls-spyder==0.4.0=pyhd3eb1b0_0\n",
            "  - defaults/osx-64::h5py==3.7.0=py39h4a1dd59_0\n",
            "  - defaults/osx-64::pywavelets==1.3.0=py39hca72f7f_0\n",
            "  - defaults/osx-64::scikit-learn-intelex==2021.6.0=py39hecd8cb5_0\n",
            "  - defaults/osx-64::numpy==1.21.5=py39h2e5f0a9_3\n",
            "  - defaults/osx-64::jupyterlab==3.4.4=py39hecd8cb5_0\n",
            "  - defaults/noarch::pyhamcrest==2.0.2=pyhd3eb1b0_2\n",
            "  - defaults/osx-64::datashader==0.14.1=py39hecd8cb5_0\n",
            "  - defaults/osx-64::nbclient==0.5.13=py39hecd8cb5_0\n",
            "  - defaults/osx-64::scrapy==2.6.2=py39hecd8cb5_0\n",
            "  - defaults/noarch::jinja2==2.11.3=pyhd3eb1b0_0\n",
            "  - defaults/osx-64::matplotlib==3.5.2=py39hecd8cb5_0\n",
            "  - defaults/osx-64::hvplot==0.8.0=py39hecd8cb5_0\n",
            "  - defaults/osx-64::parsel==1.6.0=py39hecd8cb5_0\n",
            "  - defaults/noarch::nltk==3.7=pyhd3eb1b0_0\n",
            "  - defaults/osx-64::googleapis-common-protos==1.56.4=py39hecd8cb5_0\n",
            "  - defaults/osx-64::python-lsp-black==1.2.1=py39hecd8cb5_0\n",
            "  - defaults/osx-64::numpy-base==1.21.5=py39h3b1a694_3\n",
            "  - defaults/osx-64::websocket-client==0.58.0=py39hecd8cb5_4\n",
            "  - defaults/osx-64::tensorboard==2.9.0=py39hecd8cb5_0\n",
            "  - defaults/noarch::astunparse==1.6.3=py_0\n",
            "  - defaults/osx-64::bkcharts==0.2=py39hecd8cb5_1\n",
            "  - defaults/osx-64::google-cloud-storage==1.43.0=py39hecd8cb5_0\n",
            "  - defaults/osx-64::qtconsole==5.3.2=py39hecd8cb5_0\n",
            "  - defaults/osx-64::ipython==7.31.1=py39hecd8cb5_1\n",
            "  - defaults/osx-64::patsy==0.5.2=py39hecd8cb5_1\n",
            "  - defaults/osx-64::conda-build==3.22.0=py39hecd8cb5_0\n",
            "  - defaults/osx-64::sphinx==5.0.2=py39hecd8cb5_0\n",
            "  - defaults/noarch::python-dateutil==2.8.2=pyhd3eb1b0_0\n",
            "  - conda-forge/noarch::pynndescent==0.5.7=pyh6c4a22f_0\n",
            "  - defaults/osx-64::anaconda-navigator==2.3.2=py39hecd8cb5_0\n",
            "  - defaults/osx-64::grpcio==1.42.0=py39ha29bfda_0\n",
            "  - defaults/osx-64::bcrypt==3.2.0=py39hca72f7f_1\n",
            "  - defaults/osx-64::_ipyw_jlab_nb_ext_conf==0.1.0=py39hecd8cb5_1\n",
            "  - defaults/noarch::prompt_toolkit==3.0.20=hd3eb1b0_0\n",
            "  - defaults/noarch::conda-verify==3.4.2=py_1\n",
            "  - defaults/osx-64::tensorflow-base==2.9.1=eigen_py39h36d2db2_0\n",
            "  - defaults/osx-64::python-lsp-server==1.5.0=py39hecd8cb5_0\n",
            "  - defaults/osx-64::statsmodels==0.13.2=py39hca72f7f_0\n",
            "  - defaults/osx-64::dask==2022.7.0=py39hecd8cb5_0\n",
            "  - defaults/noarch::protego==0.1.16=py_0\n",
            "  - defaults/osx-64::jupyter_server==1.18.1=py39hecd8cb5_0\n",
            "  - defaults/noarch::jinja2-time==0.2.0=pyhd3eb1b0_3\n",
            "  - defaults/osx-64::anaconda-client==1.11.0=py39hecd8cb5_0\n",
            "  - defaults/osx-64::conda-content-trust==0.1.3=py39hecd8cb5_0\n",
            "  - defaults/noarch::w3lib==1.21.0=pyhd3eb1b0_0\n",
            "  - defaults/osx-64::spyder-kernels==2.3.3=py39hecd8cb5_0\n",
            "  - defaults/noarch::jupyterlab_server==2.10.3=pyhd3eb1b0_1\n",
            "  - defaults/osx-64::nbconvert==6.4.4=py39hecd8cb5_0\n",
            "  - defaults/noarch::google-pasta==0.2.0=pyhd3eb1b0_0\n",
            "  - defaults/osx-64::gensim==4.1.2=py39he9d5cce_0\n",
            "  - defaults/osx-64::numpydoc==1.4.0=py39hecd8cb5_0\n",
            "  - defaults/noarch::requests-oauthlib==1.3.0=py_0\n",
            "  - defaults/noarch::bleach==4.1.0=pyhd3eb1b0_0\n",
            "  - defaults/osx-64::zope.interface==5.4.0=py39h9ed2024_0\n",
            "  - defaults/osx-64::numba==0.55.1=py39hae1ba45_0\n",
            "  - defaults/osx-64::s3transfer==0.6.0=py39hecd8cb5_0\n",
            "  - defaults/osx-64::pytables==3.6.1=py39h648f197_1\n",
            "  - defaults/noarch::flask==1.1.2=pyhd3eb1b0_0\n",
            "  - defaults/noarch::intake==0.6.5=pyhd3eb1b0_0\n",
            "  - defaults/noarch::hyperlink==21.0.0=pyhd3eb1b0_0\n",
            "  - defaults/osx-64::pandas==1.4.4=py39he9d5cce_0\n",
            "  - defaults/osx-64::jupyter_client==7.3.4=py39hecd8cb5_0\n",
            "  - defaults/osx-64::pyerfa==2.0.0=py39h9ed2024_0\n",
            "  - defaults/osx-64::navigator-updater==0.3.0=py39hecd8cb5_0\n",
            "  - defaults/osx-64::anyio==3.5.0=py39hecd8cb5_0\n",
            "  - defaults/osx-64::distributed==2022.7.0=py39hecd8cb5_0\n",
            "  - defaults/osx-64::jupyter==1.0.0=py39hecd8cb5_8\n",
            "  - defaults/noarch::ipywidgets==7.6.5=pyhd3eb1b0_1\n",
            "  - defaults/noarch::jupyter_console==6.4.3=pyhd3eb1b0_0\n",
            "  - defaults/osx-64::bokeh==2.4.3=py39hecd8cb5_0\n",
            "  - defaults/osx-64::colorcet==3.0.0=py39hecd8cb5_0\n",
            "  - defaults/osx-64::twisted==22.2.0=py39hca72f7f_1\n",
            "  - defaults/osx-64::mkl_fft==1.3.1=py39h4ab4a9b_0\n",
            "  - defaults/osx-64::conda-repo-cli==1.0.20=py39hecd8cb5_0\n",
            "  - defaults/osx-64::astropy==5.1=py39h67323c0_0\n",
            "  - defaults/osx-64::tensorflow==2.9.1=eigen_py39h00bd434_0\n",
            "  - defaults/osx-64::pyct==0.4.8=py39hecd8cb5_1\n",
            "  - defaults/noarch::seaborn==0.11.2=pyhd3eb1b0_0\n",
            "  - defaults/osx-64::anaconda==custom=py39_1\n",
            "  - defaults/noarch::automat==20.2.0=py_0\n",
            "  - defaults/osx-64::google-api-core==2.10.1=py39hecd8cb5_0\n",
            "  - defaults/osx-64::ipykernel==6.15.2=py39hecd8cb5_0\n",
            "  - defaults/noarch::conda-token==0.4.0=pyhd3eb1b0_0\n",
            "  - conda-forge/noarch::mnist==0.2.2=py_0\n",
            "  - defaults/noarch::service_identity==18.1.0=pyhd3eb1b0_1\n",
            "  - defaults/osx-64::spyder==5.3.3=py39hecd8cb5_0\n",
            "  - conda-forge/osx-64::conda==22.9.0=py39h6e9494a_1\n",
            "  - defaults/noarch::stack_data==0.2.0=pyhd3eb1b0_0\n",
            "  - defaults/osx-64::notebook==6.4.12=py39hecd8cb5_0\n",
            "  - defaults/osx-64::panel==0.13.1=py39hecd8cb5_0\n",
            "  - defaults/noarch::google-auth-oauthlib==0.4.4=pyhd3eb1b0_0\n",
            "  - defaults/osx-64::widgetsnbextension==3.5.2=py39hecd8cb5_0\n",
            "  - defaults/osx-64::terminado==0.13.1=py39hecd8cb5_0\n",
            "  - defaults/osx-64::clyent==1.2.2=py39hecd8cb5_1\n",
            "  - defaults/noarch::tldextract==3.2.0=pyhd3eb1b0_0\n",
            "  - defaults/osx-64::daal4py==2021.6.0=py39h01d92e1_1\n",
            "  - defaults/noarch::xarray==0.20.1=pyhd3eb1b0_1\n",
            "done\n",
            "\n",
            "## Package Plan ##\n",
            "\n",
            "  environment location: /Users/mac-julia/opt/anaconda3\n",
            "\n",
            "  added / updated specs:\n",
            "    - samtools\n",
            "\n",
            "\n",
            "The following packages will be downloaded:\n",
            "\n",
            "    package                    |            build\n",
            "    ---------------------------|-----------------\n",
            "    samtools-1.6               |       hfe4c6a4_7         492 KB  bioconda\n",
            "    ------------------------------------------------------------\n",
            "                                           Total:         492 KB\n",
            "\n",
            "The following NEW packages will be INSTALLED:\n",
            "\n",
            "  chardet            pkgs/main/osx-64::chardet-4.0.0-py39hecd8cb5_1003 None\n",
            "  idna               pkgs/main/osx-64::idna-3.4-py39hecd8cb5_0 None\n",
            "  joblib             pkgs/main/osx-64::joblib-1.1.1-py39hecd8cb5_0 None\n",
            "  matplotlib-base    pkgs/main/osx-64::matplotlib-base-3.5.2-py39hfb0c5b7_0 None\n",
            "  pillow             pkgs/main/osx-64::pillow-9.2.0-py39hde71d04_1 None\n",
            "  pip                pkgs/main/osx-64::pip-22.3.1-py39hecd8cb5_0 None\n",
            "  prompt-toolkit     pkgs/main/noarch::prompt-toolkit-3.0.20-pyhd3eb1b0_0 None\n",
            "  protobuf           pkgs/main/osx-64::protobuf-3.20.1-py39he9d5cce_0 None\n",
            "  pytorch            pkgs/main/osx-64::pytorch-1.12.1-cpu_py39ha26b6ec_0 None\n",
            "  requests           pkgs/main/osx-64::requests-2.28.1-py39hecd8cb5_0 None\n",
            "  samtools           bioconda/osx-64::samtools-1.6-hfe4c6a4_7 None\n",
            "  setuptools         pkgs/main/osx-64::setuptools-65.5.0-py39hecd8cb5_0 None\n",
            "  six                pkgs/main/noarch::six-1.16.0-pyhd3eb1b0_1 None\n",
            "  torchvision        pkgs/main/osx-64::torchvision-0.13.1-cpu_py39hc47236b_0 None\n",
            "  tornado            pkgs/main/osx-64::tornado-6.1-py39h9ed2024_0 None\n",
            "  urllib3            pkgs/main/osx-64::urllib3-1.26.13-py39hecd8cb5_0 None\n",
            "  wheel              pkgs/main/noarch::wheel-0.35.1-pyhd3eb1b0_0 None\n",
            "\n",
            "The following packages will be UPDATED:\n",
            "\n",
            "  ca-certificates    conda-forge::ca-certificates-2022.9.2~ --> pkgs/main::ca-certificates-2022.10.11-hecd8cb5_0 None\n",
            "  openssl            conda-forge::openssl-1.1.1q-hfd90126_1 --> pkgs/main::openssl-1.1.1s-hca72f7f_0 None\n",
            "\n",
            "The following packages will be SUPERSEDED by a higher-priority channel:\n",
            "\n",
            "  certifi            conda-forge/noarch::certifi-2022.9.24~ --> pkgs/main/osx-64::certifi-2022.9.24-py39hecd8cb5_0 None\n",
            "\n",
            "\n",
            "\n",
            "Downloading and Extracting Packages\n",
            "samtools-1.6         | 492 KB    | ##################################### | 100% \n",
            "Preparing transaction: done\n",
            "Verifying transaction: failed\n",
            "\n",
            "RemoveError: 'requests' is a dependency of conda and cannot be removed from\n",
            "conda's operating environment.\n",
            "RemoveError: 'setuptools' is a dependency of conda and cannot be removed from\n",
            "conda's operating environment.\n",
            "\n"
          ]
        }
      ],
      "source": [
        "!conda install -y -c bioconda samtools"
      ]
    },
    {
      "cell_type": "markdown",
      "metadata": {
        "id": "x7DpOq4qmjD3",
        "jp-MarkdownHeadingCollapsed": true,
        "tags": []
      },
      "source": [
        "## fasqc"
      ]
    },
    {
      "cell_type": "code",
      "execution_count": null,
      "metadata": {
        "id": "Q-sNI2YDaReb"
      },
      "outputs": [],
      "source": [
        "!ls drive/MyDrive/HSE/Sem_3/mazin/rn.seq.data/"
      ]
    },
    {
      "cell_type": "code",
      "execution_count": null,
      "metadata": {
        "id": "rU_MEjZL_Y2I"
      },
      "outputs": [],
      "source": [
        "%cd /content"
      ]
    },
    {
      "cell_type": "code",
      "execution_count": null,
      "metadata": {
        "id": "ponvCh-0_CAn"
      },
      "outputs": [],
      "source": [
        "!mkdir fastqc"
      ]
    },
    {
      "cell_type": "code",
      "execution_count": null,
      "metadata": {
        "id": "Axfrq7V6ipOK"
      },
      "outputs": [],
      "source": [
        "!watch lynx /content/fastqc/B34_fastqc.html -dump"
      ]
    },
    {
      "cell_type": "code",
      "execution_count": null,
      "metadata": {
        "id": "8Faz5XwkgQjJ"
      },
      "outputs": [],
      "source": [
        "!fastqc -o fastqc drive/MyDrive/HSE/Sem_3/mazin/rn.seq.data/*"
      ]
    },
    {
      "cell_type": "markdown",
      "metadata": {
        "id": "XMd0dQ9Amm-A",
        "jp-MarkdownHeadingCollapsed": true,
        "tags": []
      },
      "source": [
        "## multiqc"
      ]
    },
    {
      "cell_type": "code",
      "execution_count": null,
      "metadata": {
        "id": "vT9ADGsDguap"
      },
      "outputs": [],
      "source": [
        "!conda install -c bioconda -c conda-forge multiqc"
      ]
    },
    {
      "cell_type": "code",
      "execution_count": null,
      "metadata": {
        "id": "XLHOBEFskinN"
      },
      "outputs": [],
      "source": [
        "#!multiqc fastqc/\n",
        "!multiqc /content/fastqc/ "
      ]
    },
    {
      "cell_type": "markdown",
      "metadata": {
        "id": "rm5OISGhm0ka",
        "tags": []
      },
      "source": [
        "## hisat2"
      ]
    },
    {
      "cell_type": "code",
      "execution_count": null,
      "metadata": {
        "colab": {
          "base_uri": "https://localhost:8080/"
        },
        "id": "y5-9eewAk5wD",
        "outputId": "4c1025a0-10fd-4f51-e3cc-fa4093d31db4"
      },
      "outputs": [
        {
          "name": "stdout",
          "output_type": "stream",
          "text": [
            "Collecting package metadata (current_repodata.json): done\n",
            "Solving environment: \\ \n",
            "The environment is inconsistent, please check the package plan carefully\n",
            "The following packages are causing the inconsistency:\n",
            "\n",
            "  - defaults/osx-64::holoviews==1.15.0=py39hecd8cb5_0\n",
            "  - defaults/noarch::conda-pack==0.6.0=pyhd3eb1b0_0\n",
            "  - defaults/noarch::tifffile==2021.7.2=pyhd3eb1b0_2\n",
            "  - defaults/noarch::tensorboard-plugin-wit==1.6.0=py_0\n",
            "  - defaults/osx-64::imageio==2.19.3=py39hecd8cb5_0\n",
            "  - defaults/osx-64::scikit-learn==1.0.2=py39hae1ba45_1\n",
            "  - defaults/noarch::opt_einsum==3.3.0=pyhd3eb1b0_1\n",
            "  - defaults/noarch::arrow==1.2.2=pyhd3eb1b0_0\n",
            "  - defaults/osx-64::mkl-service==2.4.0=py39h9ed2024_0\n",
            "  - defaults/noarch::requests-file==1.5.1=pyhd3eb1b0_0\n",
            "  - defaults/noarch::google-auth==2.6.0=pyhd3eb1b0_0\n",
            "  - defaults/osx-64::botocore==1.27.28=py39hecd8cb5_0\n",
            "  - defaults/osx-64::bottleneck==1.3.5=py39h67323c0_0\n",
            "  - defaults/osx-64::scipy==1.7.3=py39h214d14d_2\n",
            "  - defaults/osx-64::yarl==1.8.1=py39hca72f7f_0\n",
            "  - defaults/noarch::nbclassic==0.3.5=pyhd3eb1b0_0\n",
            "  - defaults/noarch::asttokens==2.0.5=pyhd3eb1b0_0\n",
            "  - defaults/noarch::cookiecutter==1.7.3=pyhd3eb1b0_0\n",
            "  - defaults/osx-64::keras==2.9.0=py39hecd8cb5_0\n",
            "  - defaults/osx-64::scikit-image==0.19.2=py39hae1ba45_0\n",
            "  - defaults/noarch::itemloaders==1.0.4=pyhd3eb1b0_1\n",
            "  - defaults/osx-64::anaconda-project==0.11.1=py39hecd8cb5_0\n",
            "  - conda-forge/osx-64::pymde==0.1.15=py39h86b5767_0\n",
            "  - defaults/osx-64::_anaconda_depends==2022.05=py39_0\n",
            "  - defaults/osx-64::aiohttp==3.8.1=py39hca72f7f_1\n",
            "  - defaults/osx-64::datashape==0.5.4=py39hecd8cb5_1\n",
            "  - defaults/osx-64::google-cloud-core==2.3.2=py39hecd8cb5_0\n",
            "  - defaults/osx-64::boto3==1.24.28=py39hecd8cb5_0\n",
            "  - defaults/noarch::keras-preprocessing==1.1.2=pyhd3eb1b0_0\n",
            "  - defaults/osx-64::mkl_random==1.2.2=py39hb2f4e1b_0\n",
            "  - defaults/osx-64::multipledispatch==0.6.0=py39hecd8cb5_0\n",
            "  - defaults/noarch::backports.functools_lru_cache==1.6.4=pyhd3eb1b0_0\n",
            "  - defaults/osx-64::numexpr==2.8.3=py39h2e5f0a9_0\n",
            "  - defaults/osx-64::imagecodecs==2021.8.26=py39h0f85e6e_1\n",
            "  - defaults/noarch::google-resumable-media==1.3.1=pyhd3eb1b0_1\n",
            "  - defaults/noarch::binaryornot==0.4.4=pyhd3eb1b0_1\n",
            "  - defaults/noarch::pyls-spyder==0.4.0=pyhd3eb1b0_0\n",
            "  - defaults/osx-64::h5py==3.7.0=py39h4a1dd59_0\n",
            "  - defaults/osx-64::pywavelets==1.3.0=py39hca72f7f_0\n",
            "  - defaults/osx-64::scikit-learn-intelex==2021.6.0=py39hecd8cb5_0\n",
            "  - defaults/osx-64::numpy==1.21.5=py39h2e5f0a9_3\n",
            "  - defaults/osx-64::jupyterlab==3.4.4=py39hecd8cb5_0\n",
            "  - defaults/noarch::pyhamcrest==2.0.2=pyhd3eb1b0_2\n",
            "  - defaults/osx-64::datashader==0.14.1=py39hecd8cb5_0\n",
            "  - defaults/osx-64::nbclient==0.5.13=py39hecd8cb5_0\n",
            "  - defaults/osx-64::scrapy==2.6.2=py39hecd8cb5_0\n",
            "  - defaults/noarch::jinja2==2.11.3=pyhd3eb1b0_0\n",
            "  - defaults/osx-64::matplotlib==3.5.2=py39hecd8cb5_0\n",
            "  - defaults/osx-64::hvplot==0.8.0=py39hecd8cb5_0\n",
            "  - defaults/osx-64::parsel==1.6.0=py39hecd8cb5_0\n",
            "  - defaults/noarch::nltk==3.7=pyhd3eb1b0_0\n",
            "  - defaults/osx-64::googleapis-common-protos==1.56.4=py39hecd8cb5_0\n",
            "  - defaults/osx-64::python-lsp-black==1.2.1=py39hecd8cb5_0\n",
            "  - defaults/osx-64::numpy-base==1.21.5=py39h3b1a694_3\n",
            "  - defaults/osx-64::websocket-client==0.58.0=py39hecd8cb5_4\n",
            "  - defaults/osx-64::tensorboard==2.9.0=py39hecd8cb5_0\n",
            "  - defaults/noarch::astunparse==1.6.3=py_0\n",
            "  - defaults/osx-64::bkcharts==0.2=py39hecd8cb5_1\n",
            "  - defaults/osx-64::google-cloud-storage==1.43.0=py39hecd8cb5_0\n",
            "  - defaults/osx-64::qtconsole==5.3.2=py39hecd8cb5_0\n",
            "  - defaults/osx-64::ipython==7.31.1=py39hecd8cb5_1\n",
            "  - defaults/osx-64::patsy==0.5.2=py39hecd8cb5_1\n",
            "  - defaults/osx-64::conda-build==3.22.0=py39hecd8cb5_0\n",
            "  - defaults/osx-64::sphinx==5.0.2=py39hecd8cb5_0\n",
            "  - defaults/noarch::python-dateutil==2.8.2=pyhd3eb1b0_0\n",
            "  - conda-forge/noarch::pynndescent==0.5.7=pyh6c4a22f_0\n",
            "  - defaults/osx-64::anaconda-navigator==2.3.2=py39hecd8cb5_0\n",
            "  - defaults/osx-64::grpcio==1.42.0=py39ha29bfda_0\n",
            "  - defaults/osx-64::bcrypt==3.2.0=py39hca72f7f_1\n",
            "  - defaults/osx-64::_ipyw_jlab_nb_ext_conf==0.1.0=py39hecd8cb5_1\n",
            "  - defaults/noarch::prompt_toolkit==3.0.20=hd3eb1b0_0\n",
            "  - defaults/noarch::conda-verify==3.4.2=py_1\n",
            "  - defaults/osx-64::tensorflow-base==2.9.1=eigen_py39h36d2db2_0\n",
            "  - defaults/osx-64::python-lsp-server==1.5.0=py39hecd8cb5_0\n",
            "  - defaults/osx-64::statsmodels==0.13.2=py39hca72f7f_0\n",
            "  - defaults/osx-64::dask==2022.7.0=py39hecd8cb5_0\n",
            "  - defaults/noarch::protego==0.1.16=py_0\n",
            "  - defaults/osx-64::jupyter_server==1.18.1=py39hecd8cb5_0\n",
            "  - defaults/noarch::jinja2-time==0.2.0=pyhd3eb1b0_3\n",
            "  - defaults/osx-64::anaconda-client==1.11.0=py39hecd8cb5_0\n",
            "  - defaults/osx-64::conda-content-trust==0.1.3=py39hecd8cb5_0\n",
            "  - defaults/noarch::w3lib==1.21.0=pyhd3eb1b0_0\n",
            "  - defaults/osx-64::spyder-kernels==2.3.3=py39hecd8cb5_0\n",
            "  - defaults/noarch::jupyterlab_server==2.10.3=pyhd3eb1b0_1\n",
            "  - defaults/osx-64::nbconvert==6.4.4=py39hecd8cb5_0\n",
            "  - defaults/noarch::google-pasta==0.2.0=pyhd3eb1b0_0\n",
            "  - defaults/osx-64::gensim==4.1.2=py39he9d5cce_0\n",
            "  - defaults/osx-64::numpydoc==1.4.0=py39hecd8cb5_0\n",
            "  - defaults/noarch::requests-oauthlib==1.3.0=py_0\n",
            "  - defaults/noarch::bleach==4.1.0=pyhd3eb1b0_0\n",
            "  - defaults/osx-64::zope.interface==5.4.0=py39h9ed2024_0\n",
            "  - defaults/osx-64::numba==0.55.1=py39hae1ba45_0\n",
            "  - defaults/osx-64::s3transfer==0.6.0=py39hecd8cb5_0\n",
            "  - defaults/osx-64::pytables==3.6.1=py39h648f197_1\n",
            "  - defaults/noarch::flask==1.1.2=pyhd3eb1b0_0\n",
            "  - defaults/noarch::intake==0.6.5=pyhd3eb1b0_0\n",
            "  - defaults/noarch::hyperlink==21.0.0=pyhd3eb1b0_0\n",
            "  - defaults/osx-64::pandas==1.4.4=py39he9d5cce_0\n",
            "  - defaults/osx-64::jupyter_client==7.3.4=py39hecd8cb5_0\n",
            "  - defaults/osx-64::pyerfa==2.0.0=py39h9ed2024_0\n",
            "  - defaults/osx-64::navigator-updater==0.3.0=py39hecd8cb5_0\n",
            "  - defaults/osx-64::anyio==3.5.0=py39hecd8cb5_0\n",
            "  - defaults/osx-64::distributed==2022.7.0=py39hecd8cb5_0\n",
            "  - defaults/osx-64::jupyter==1.0.0=py39hecd8cb5_8\n",
            "  - defaults/noarch::ipywidgets==7.6.5=pyhd3eb1b0_1\n",
            "  - defaults/noarch::jupyter_console==6.4.3=pyhd3eb1b0_0\n",
            "  - defaults/osx-64::bokeh==2.4.3=py39hecd8cb5_0\n",
            "  - defaults/osx-64::colorcet==3.0.0=py39hecd8cb5_0\n",
            "  - defaults/osx-64::twisted==22.2.0=py39hca72f7f_1\n",
            "  - defaults/osx-64::mkl_fft==1.3.1=py39h4ab4a9b_0\n",
            "  - defaults/osx-64::conda-repo-cli==1.0.20=py39hecd8cb5_0\n",
            "  - defaults/osx-64::astropy==5.1=py39h67323c0_0\n",
            "  - defaults/osx-64::tensorflow==2.9.1=eigen_py39h00bd434_0\n",
            "  - defaults/osx-64::pyct==0.4.8=py39hecd8cb5_1\n",
            "  - defaults/noarch::seaborn==0.11.2=pyhd3eb1b0_0\n",
            "  - defaults/osx-64::anaconda==custom=py39_1\n",
            "  - defaults/noarch::automat==20.2.0=py_0\n",
            "  - defaults/osx-64::google-api-core==2.10.1=py39hecd8cb5_0\n",
            "  - defaults/osx-64::ipykernel==6.15.2=py39hecd8cb5_0\n",
            "  - defaults/noarch::conda-token==0.4.0=pyhd3eb1b0_0\n",
            "  - conda-forge/noarch::mnist==0.2.2=py_0\n",
            "  - defaults/noarch::service_identity==18.1.0=pyhd3eb1b0_1\n",
            "  - defaults/osx-64::spyder==5.3.3=py39hecd8cb5_0\n",
            "  - conda-forge/osx-64::conda==22.9.0=py39h6e9494a_1\n",
            "  - defaults/noarch::stack_data==0.2.0=pyhd3eb1b0_0\n",
            "  - defaults/osx-64::notebook==6.4.12=py39hecd8cb5_0\n",
            "  - defaults/osx-64::panel==0.13.1=py39hecd8cb5_0\n",
            "  - defaults/noarch::google-auth-oauthlib==0.4.4=pyhd3eb1b0_0\n",
            "  - defaults/osx-64::widgetsnbextension==3.5.2=py39hecd8cb5_0\n",
            "  - defaults/osx-64::terminado==0.13.1=py39hecd8cb5_0\n",
            "  - defaults/osx-64::clyent==1.2.2=py39hecd8cb5_1\n",
            "  - defaults/noarch::tldextract==3.2.0=pyhd3eb1b0_0\n",
            "  - defaults/osx-64::daal4py==2021.6.0=py39h01d92e1_1\n",
            "  - defaults/noarch::xarray==0.20.1=pyhd3eb1b0_1\n",
            "| ^C\n",
            "failed with initial frozen solve. Retrying with flexible solve.\n",
            "\n",
            "CondaError: KeyboardInterrupt\n",
            "\n"
          ]
        }
      ],
      "source": [
        "!conda install -y -c bioconda hisat2"
      ]
    },
    {
      "cell_type": "code",
      "execution_count": null,
      "metadata": {
        "id": "eUI-P5YTmOpO"
      },
      "outputs": [],
      "source": [
        "#!hisat2_extract_splice_sites.py"
      ]
    },
    {
      "cell_type": "code",
      "execution_count": null,
      "metadata": {
        "id": "SPd3xRz3mrk3"
      },
      "outputs": [],
      "source": [
        "%cd /content/index"
      ]
    },
    {
      "cell_type": "code",
      "execution_count": null,
      "metadata": {
        "id": "T_U-5xVamtB_"
      },
      "outputs": [],
      "source": [
        "!ls -lh"
      ]
    },
    {
      "cell_type": "code",
      "execution_count": null,
      "metadata": {
        "id": "crygadOnmtmF"
      },
      "outputs": [],
      "source": [
        "!wget http://ftp.ensembl.org/pub/release-107/gtf/mus_musculus/Mus_musculus.GRCm39.107.chr.gtf.gz"
      ]
    },
    {
      "cell_type": "code",
      "execution_count": null,
      "metadata": {
        "id": "FF9r6D8s0MAD"
      },
      "outputs": [],
      "source": [
        "!ls -lh"
      ]
    },
    {
      "cell_type": "code",
      "execution_count": null,
      "metadata": {
        "id": "n5_5HVgQm-YK"
      },
      "outputs": [],
      "source": [
        "%%time\n",
        "!gunzip ./*"
      ]
    },
    {
      "cell_type": "code",
      "execution_count": null,
      "metadata": {
        "id": "1jBIslZfnE06"
      },
      "outputs": [],
      "source": [
        "!ls -lh"
      ]
    },
    {
      "cell_type": "code",
      "execution_count": null,
      "metadata": {
        "id": "Y7adLoGinZq1"
      },
      "outputs": [],
      "source": [
        "!head Mus_musculus.GRCm39.107.chr.gtf"
      ]
    },
    {
      "cell_type": "code",
      "execution_count": null,
      "metadata": {
        "id": "ITfRTcJy0aFb"
      },
      "outputs": [],
      "source": [
        "!head Mus_musculus.GRCm39.dna.chromosome.19.fa"
      ]
    },
    {
      "cell_type": "markdown",
      "metadata": {
        "id": "EcOcfD9RAtqT",
        "tags": []
      },
      "source": [
        "## отфильтруйте из аннотации только 19ую хромосому "
      ]
    },
    {
      "cell_type": "code",
      "execution_count": null,
      "metadata": {
        "id": "R8yrTxES0nou"
      },
      "outputs": [],
      "source": [
        "!grep -P '^19\\t' Mus_musculus.GRCm39.107.chr.gtf > Mus_musculus.GRCm39.107.chr19.gtf"
      ]
    },
    {
      "cell_type": "code",
      "execution_count": null,
      "metadata": {
        "id": "EkfJWq_60-Zg"
      },
      "outputs": [],
      "source": [
        "!head Mus_musculus.GRCm39.107.chr19.gtf"
      ]
    },
    {
      "cell_type": "code",
      "execution_count": null,
      "metadata": {
        "id": "Du8LqXfUlZP4"
      },
      "outputs": [],
      "source": [
        "%%time\n",
        "d = !head Mus_musculus.GRCm39.107.chr19.gtf\n",
        "data = pd.DataFrame(data=d)"
      ]
    },
    {
      "cell_type": "code",
      "execution_count": null,
      "metadata": {
        "id": "5xDJyMIYkm2B"
      },
      "outputs": [],
      "source": [
        "data"
      ]
    },
    {
      "cell_type": "markdown",
      "metadata": {
        "id": "sFBv0lIDA47G",
        "tags": []
      },
      "source": [
        "## Постройте индекс по последовательности 19ой хромосомы (без координат сайтов)"
      ]
    },
    {
      "cell_type": "code",
      "execution_count": null,
      "metadata": {
        "id": "5DUMYSA8oKFM"
      },
      "outputs": [],
      "source": [
        "!hisat2_extract_splice_sites.py Mus_musculus.GRCm39.107.chr19.gtf > Mus_musculus.GRCm39.107.chr19.ss\n",
        "!hisat2_extract_exons.py Mus_musculus.GRCm39.107.chr19.gtf > Mus_musculus.GRCm39.107.chr19.exons\n",
        "!ls -lh"
      ]
    },
    {
      "cell_type": "code",
      "execution_count": null,
      "metadata": {
        "id": "z7al8yVKoHK_"
      },
      "outputs": [],
      "source": [
        "!head Mus_musculus.GRCm39.107.chr19.ss"
      ]
    },
    {
      "cell_type": "code",
      "execution_count": null,
      "metadata": {
        "id": "pYAn0MkDllvw"
      },
      "outputs": [],
      "source": [
        "ss = !head Mus_musculus.GRCm39.107.chr19.ss\n",
        "ss_data = pd.DataFrame(data=ss)\n",
        "ss_data"
      ]
    },
    {
      "cell_type": "code",
      "execution_count": null,
      "metadata": {
        "id": "IjiIAodg_Q1Q"
      },
      "outputs": [],
      "source": [
        "!head Mus_musculus.GRCm39.107.chr19.exons"
      ]
    },
    {
      "cell_type": "code",
      "execution_count": null,
      "metadata": {
        "id": "c1yt_PDYlyh9"
      },
      "outputs": [],
      "source": [
        "exon = !head Mus_musculus.GRCm39.107.chr19.exons\n",
        "exon_data = pd.DataFrame(data=exon)\n",
        "exon_data"
      ]
    },
    {
      "cell_type": "code",
      "execution_count": null,
      "metadata": {
        "id": "fuBhsSffo0pW"
      },
      "outputs": [],
      "source": [
        "#!hisat2-build"
      ]
    },
    {
      "cell_type": "code",
      "execution_count": null,
      "metadata": {
        "id": "3fmpXyZY-Maq"
      },
      "outputs": [],
      "source": [
        "%cd /content/index"
      ]
    },
    {
      "cell_type": "code",
      "execution_count": null,
      "metadata": {
        "id": "ZyePfcBb_bY3"
      },
      "outputs": [],
      "source": [
        "!hisat2-build --ss Mus_musculus.GRCm39.107.chr19.ss --exon Mus_musculus.GRCm39.107.chr19.exons Mus_musculus.GRCm39.dna.chromosome.19.fa Mus_musculus.GRCm39.dna.chromosome.19"
      ]
    },
    {
      "cell_type": "code",
      "execution_count": null,
      "metadata": {
        "id": "iRK07tCvpPEh"
      },
      "outputs": [],
      "source": [
        "!ls -lh"
      ]
    },
    {
      "cell_type": "markdown",
      "metadata": {
        "id": "esvA5FGmBrb5",
        "tags": []
      },
      "source": [
        "## Прокартируйте все fq файлы (начните с одного) на 19ую хромосому при помощи hisat2 не допуская обрезания ридов и сообщив hisat2 координаты сайтов сплайсинга"
      ]
    },
    {
      "cell_type": "code",
      "execution_count": null,
      "metadata": {
        "id": "F_woI2iFrURf"
      },
      "outputs": [],
      "source": [
        "%cd ../"
      ]
    },
    {
      "cell_type": "code",
      "execution_count": null,
      "metadata": {
        "id": "Y0-WrT0ojXa_"
      },
      "outputs": [],
      "source": [
        "#!rm -r /content/bams"
      ]
    },
    {
      "cell_type": "code",
      "execution_count": null,
      "metadata": {
        "id": "fikSK7PQrYfB"
      },
      "outputs": [],
      "source": [
        "!mkdir bams"
      ]
    },
    {
      "cell_type": "code",
      "execution_count": null,
      "metadata": {
        "id": "ZMxsa0Fqro1S"
      },
      "outputs": [],
      "source": [
        "%cd bams"
      ]
    },
    {
      "cell_type": "code",
      "execution_count": null,
      "metadata": {
        "id": "SnMCXdCkBwfN"
      },
      "outputs": [],
      "source": [
        "list_files = ['B14.5',\n",
        "\n",
        "'B17.5',\n",
        "\n",
        "'B34',\n",
        "\n",
        "'C15.5',\n",
        "\n",
        "'C20',\n",
        "\n",
        "'B15.5',\n",
        "\n",
        "'B20',\n",
        "\n",
        "'C14.5',\n",
        "\n",
        "'C17.5',\n",
        "\n",
        "'C34']"
      ]
    },
    {
      "cell_type": "code",
      "execution_count": null,
      "metadata": {
        "id": "1jrtLVUsnlxs"
      },
      "outputs": [],
      "source": [
        "!pwd"
      ]
    },
    {
      "cell_type": "code",
      "execution_count": null,
      "metadata": {
        "id": "Bkd0JdFunn7p"
      },
      "outputs": [],
      "source": [
        "%cd /content/bams"
      ]
    },
    {
      "cell_type": "code",
      "execution_count": null,
      "metadata": {
        "id": "hyMNkqWrrqch"
      },
      "outputs": [],
      "source": [
        "i='C34'\n",
        "index =  '/content/index/Mus_musculus.GRCm39.dna.chromosome.19'\n",
        "fq=  \"/content/drive/MyDrive/HSE/Sem_3/mazin/rn.seq.data\""
      ]
    },
    {
      "cell_type": "code",
      "execution_count": null,
      "metadata": {
        "id": "_qRpW4fPstL2"
      },
      "outputs": [],
      "source": [
        "!echo $fq"
      ]
    },
    {
      "cell_type": "code",
      "execution_count": null,
      "metadata": {
        "id": "l-Ez0o3WpLVX"
      },
      "outputs": [],
      "source": [
        "!ls -lh $fq"
      ]
    },
    {
      "cell_type": "code",
      "execution_count": null,
      "metadata": {
        "id": "Awww7H_Y9hRo"
      },
      "outputs": [],
      "source": [
        "for i in list_files:\n",
        "  !hisat2 --summary-file $i\\.log --no-softclip --no-unal -x $index -U $fq/$i\\.fq | samtools view -Sb - > $i\\.bam"
      ]
    },
    {
      "cell_type": "code",
      "execution_count": null,
      "metadata": {
        "id": "rs9lk3n-jmtF"
      },
      "outputs": [],
      "source": [
        "import numpy as np\n",
        "random_numpy = np.random.randint(0, len(list_files))\n",
        "item = list_files[random_numpy]\n",
        "item"
      ]
    },
    {
      "cell_type": "code",
      "execution_count": null,
      "metadata": {
        "id": "zZWIE8o8dVae"
      },
      "outputs": [],
      "source": [
        "# %%time\n",
        "# !samtools view $item.bam 19:12485000-33490000 > analysis_of_item.csv"
      ]
    },
    {
      "cell_type": "markdown",
      "metadata": {
        "id": "5q8KWY0TFTkx"
      },
      "source": [
        "### Table overall alignment rate\n",
        "\n",
        "|№|overall alignment rate|\n",
        "| ---- | ---- |\n",
        "|B14.5|92.15%|\n",
        "|B17.5|87.50%|\n",
        "|B34|91.36%|\n",
        "|C15.5|87.37%|\n",
        "|C20|92.55%|\n",
        "|B15.5|88.22%|\n",
        "|B20|91.49%|\n",
        "|C14.5|91.74%|\n",
        "|C17.5|90.17%|\n",
        "|C34|92.83%|"
      ]
    },
    {
      "cell_type": "code",
      "execution_count": null,
      "metadata": {
        "id": "xTmBnI9HtKrx"
      },
      "outputs": [],
      "source": [
        "# !conda install -y -c bioconda samtools"
      ]
    },
    {
      "cell_type": "code",
      "execution_count": null,
      "metadata": {
        "id": "GIzKKJpbsneI"
      },
      "outputs": [],
      "source": [
        "!ls -lh"
      ]
    },
    {
      "cell_type": "code",
      "execution_count": null,
      "metadata": {
        "id": "3uHdPR0-mQ6K"
      },
      "outputs": [],
      "source": [
        "!pwd\n",
        "%cd /content/bams"
      ]
    },
    {
      "cell_type": "code",
      "execution_count": null,
      "metadata": {
        "id": "nDYBzRiODXS_"
      },
      "outputs": [],
      "source": [
        "for i in list_files:\n",
        "  #print(i)\n",
        "  print('\\n')\n",
        "  !samtools sort -o $i\\.s.bam $i\\.bam\n",
        "  #!head $i\\.bam -v\n"
      ]
    },
    {
      "cell_type": "code",
      "execution_count": null,
      "metadata": {
        "id": "O5ipw5KOm1FO"
      },
      "outputs": [],
      "source": [
        "for i in list_files:\n",
        "  !mv $i\\.s.bam $i\\.bam\n",
        "!ls -lh "
      ]
    },
    {
      "cell_type": "code",
      "execution_count": null,
      "metadata": {
        "id": "D5IJ4hrPu-wD"
      },
      "outputs": [],
      "source": [
        "# for i in list_files:\n",
        "#   !mv $i\\.s.bam $i\\.bam\n",
        "# !ls -lh "
      ]
    },
    {
      "cell_type": "code",
      "execution_count": null,
      "metadata": {
        "id": "zHs_tvkxm4iH"
      },
      "outputs": [],
      "source": [
        "for i in list_files:\n",
        "  print(i)\n",
        "  print()\n",
        "  !samtools index $i\\.bam\n",
        "  #!head $i\\.bam -v\n",
        "!ls -lh"
      ]
    },
    {
      "cell_type": "code",
      "execution_count": null,
      "metadata": {
        "id": "gSiR1YFXvDr0"
      },
      "outputs": [],
      "source": [
        "# for i in list_files:\n",
        "#   print(i)\n",
        "#   print()\n",
        "#   !samtools index $i\\.bam\n",
        "#   #!head $i\\.bam -v\n",
        "# !ls -lh"
      ]
    },
    {
      "cell_type": "code",
      "execution_count": null,
      "metadata": {
        "id": "Td6Nnz4lH0AJ"
      },
      "outputs": [],
      "source": [
        "for i in list_files:\n",
        "  !samtools sort -o $i\\.s.bam $i\\.bam"
      ]
    },
    {
      "cell_type": "code",
      "execution_count": null,
      "metadata": {
        "id": "PjSuNT-JICsx"
      },
      "outputs": [],
      "source": [
        "!ls -lh"
      ]
    },
    {
      "cell_type": "code",
      "execution_count": null,
      "metadata": {
        "id": "Hnwk-fytfEc9"
      },
      "outputs": [],
      "source": [
        "%%time\n",
        "!samtools view B14.5.bam 19:12485000-33490000 > analysis_B14.5.csv"
      ]
    },
    {
      "cell_type": "code",
      "execution_count": null,
      "metadata": {
        "id": "zwEnTruIg-uq"
      },
      "outputs": [],
      "source": [
        "# import pandas as pd\n",
        "import csv\n",
        "with open('analysis_B14.5.csv', newline='') as csvfile:\n",
        "     spamreader = csv.reader(csvfile, delimiter=' ', quotechar='|')\n",
        "     for row in spamreader:\n",
        "         print(', '.join(row))"
      ]
    },
    {
      "cell_type": "code",
      "execution_count": null,
      "metadata": {
        "id": "_9sC69CLnoYv"
      },
      "outputs": [],
      "source": [
        "# df = pd.read_csv('analysis_B14.5.csv', sep='\\t', header=None)\n",
        "# df"
      ]
    },
    {
      "cell_type": "code",
      "execution_count": null,
      "metadata": {
        "id": "zRgpMPZler7E"
      },
      "outputs": [],
      "source": [
        "!pwd"
      ]
    },
    {
      "cell_type": "code",
      "execution_count": null,
      "metadata": {
        "id": "9PGDDtRdcjx-"
      },
      "outputs": [],
      "source": [
        "# %% bash\n",
        "# for file in /mnt/local/vse2020/shared/rna.seq.data/*; do  ../bin/hisat2-2.2.0/hisat2 --no-softclip --known-splicesite-infile index/Mus_musculus.GRCm39.104.chr19.ss  -x index/Mus_musculus.GRCm39.dna.chromosome.19 -U $file | samtools view -b - | samtools sort -o - >  \"bam/$(basename $file .fq.gz).bam\"; done"
      ]
    },
    {
      "cell_type": "code",
      "execution_count": null,
      "metadata": {
        "id": "fy7RFRR0DE6-"
      },
      "outputs": [],
      "source": [
        "# %%time\n",
        "# for i in list_files:\n",
        "#   !hisat2 --summary-file $i\\.log --no-softclip --no-unal -x $index -U $fq/$i\\.fq | samtools view -Sb - > $i\\.bam"
      ]
    },
    {
      "cell_type": "code",
      "execution_count": null,
      "metadata": {
        "id": "XjiW6WEMhD1Y"
      },
      "outputs": [],
      "source": [
        "# !pwd"
      ]
    },
    {
      "cell_type": "markdown",
      "metadata": {
        "id": "ZA7AWNnzENJq",
        "jp-MarkdownHeadingCollapsed": true,
        "tags": []
      },
      "source": [
        "## Сколько ридов картируется в регион 19:3324440-3329850 в этом образце?"
      ]
    },
    {
      "cell_type": "code",
      "execution_count": null,
      "metadata": {
        "id": "r53xT21iIiPE"
      },
      "outputs": [],
      "source": [
        "%cd /content/bams"
      ]
    },
    {
      "cell_type": "code",
      "execution_count": null,
      "metadata": {
        "id": "WVJOqO_dg7rF"
      },
      "outputs": [],
      "source": [
        "view_1 = {}\n",
        "view_2 = {}\n",
        "view_3 = {}\n",
        "replace = {}\n",
        "no_replace = {}\n",
        "count = {}"
      ]
    },
    {
      "cell_type": "code",
      "execution_count": null,
      "metadata": {
        "id": "qqzK8LjsEers"
      },
      "outputs": [],
      "source": [
        "# view_1 = {}\n",
        "# view_2 = {}\n",
        "# view_3 = {}\n",
        "# replace = {}\n",
        "# no_replace = {}\n",
        "# count = {}\n",
        "for i in list_files:\n",
        "  print(i)\n",
        "  view_1[i] = !samtools view $i\\.bam 19:3324440-3329850 | cut -f6 | grep N\n",
        "  print(view_1[i])\n",
        "  view_2[i] = !samtools view $i\\.bam 19:3324440-3329850 | cut -f6 | grep N\n",
        "  view_3[i] = !samtools view $i\\.bam 19:3324440-3329850 | wc -l\n",
        "  no_replace[i] = !samtools view $i\\.bam 19:3324440-3329850 | grep \"NM:i:0\" | wc -l # без замен\n",
        "  print(no_replace[i])\n",
        "  replace[i] = !samtools view $i\\.bam 19:3324440-3329850 | grep \"NM:i:1\" | wc -l # c заменой\n",
        "  print(replace[i])\n",
        "  # посчитаем риды, попавшие на экзон-экзонные границы\n",
        "  count[i] = !samtools view $i\\.bam 19:3324440-3329850 |  awk '($6 ~ /N/)' | wc -l"
      ]
    },
    {
      "cell_type": "code",
      "execution_count": null,
      "metadata": {
        "id": "yuEDHk6ohWg0"
      },
      "outputs": [],
      "source": [
        "view_1 "
      ]
    },
    {
      "cell_type": "code",
      "execution_count": null,
      "metadata": {
        "id": "ycKss3k-hY_E"
      },
      "outputs": [],
      "source": [
        "view_2"
      ]
    },
    {
      "cell_type": "code",
      "execution_count": null,
      "metadata": {
        "id": "8ApH-9Mihd6u"
      },
      "outputs": [],
      "source": [
        "view_3 "
      ]
    },
    {
      "cell_type": "code",
      "execution_count": null,
      "metadata": {
        "id": "KRkIUX5lke3Z"
      },
      "outputs": [],
      "source": [
        "replace"
      ]
    },
    {
      "cell_type": "code",
      "execution_count": null,
      "metadata": {
        "id": "xb1mhGwCkfbd"
      },
      "outputs": [],
      "source": [
        "no_replace"
      ]
    },
    {
      "cell_type": "code",
      "execution_count": null,
      "metadata": {
        "id": "1Iztjgmukg4R"
      },
      "outputs": [],
      "source": [
        "count"
      ]
    },
    {
      "cell_type": "code",
      "execution_count": null,
      "metadata": {
        "id": "eU_rtUtMJ1Qy"
      },
      "outputs": [],
      "source": [
        "length_dict = {key: len(value) for key, value in view_1.items()}\n",
        "length_dict\n",
        "#length_key = length_dict['B14.5']\n",
        "#length_key"
      ]
    },
    {
      "cell_type": "markdown",
      "metadata": {
        "id": "wyXvcF41kzS8"
      },
      "source": [
        "### Посчитаем покрытие интронов"
      ]
    },
    {
      "cell_type": "code",
      "execution_count": null,
      "metadata": {
        "id": "2bOJ9mpjo_Q-"
      },
      "outputs": [],
      "source": [
        "!pwd\n",
        "%cd /content"
      ]
    },
    {
      "cell_type": "code",
      "execution_count": null,
      "metadata": {
        "id": "Ckh3CjoGkyPp"
      },
      "outputs": [],
      "source": [
        "!bedtools coverage -counts -abam bams/B14.5.bam -b  index/Mus_musculus.GRCm39.107.chr19.ss > index/cov_B14.5.txt\n",
        "!head index/cov_B14.5.txt"
      ]
    },
    {
      "cell_type": "markdown",
      "metadata": {
        "id": "FAeRC2aslEAT"
      },
      "source": [
        "### Выведем интроны с хотя бы одним ридом из данного интервала"
      ]
    },
    {
      "cell_type": "code",
      "execution_count": null,
      "metadata": {
        "id": "qeOaRhsalKQD"
      },
      "outputs": [],
      "source": [
        "!cat index/cov_B14.5.txt | awk '$2>=12485000 && $3<=12490000 && $5>0'"
      ]
    },
    {
      "cell_type": "code",
      "execution_count": null,
      "metadata": {
        "id": "NdCh_uAQlKWd"
      },
      "outputs": [],
      "source": []
    },
    {
      "cell_type": "markdown",
      "metadata": {
        "id": "5Fq5lxT_JkAZ"
      },
      "source": [
        "### Способ № 2\n",
        "\n",
        "Сколько из них картируются только в одно место генома?\n",
        "\n",
        "\n",
        "Сколько ридов картровалось без замен? Сколько с 1, 2 и т. д. заменами?\n",
        "\n",
        "\n",
        "Сколько ридов картировалось на экзон-экзонные границы? Перечислите координаты всех интронов в данном интервале подтверждённых хотя бы одним ридом в формате:"
      ]
    },
    {
      "cell_type": "code",
      "execution_count": null,
      "metadata": {
        "id": "wtirI8qQZR6X"
      },
      "outputs": [],
      "source": [
        "samtools view B14.bam 19:12485000-12490000 | wc -l"
      ]
    },
    {
      "cell_type": "code",
      "execution_count": null,
      "metadata": {
        "id": "1k20g4eqKOYt"
      },
      "outputs": [],
      "source": [
        "def GetMaxFlow(flows):  \n",
        "  maks = 0   \n",
        "  count = 0  \n",
        "\n",
        "  for i in flows:\n",
        "    if maks < len(i):\n",
        "      maks = len(i)\n",
        "\n",
        "  for i in flows:\n",
        "    if maks == len(i):\n",
        "     count += 1\n",
        "\n",
        "  return (maks,count)"
      ]
    },
    {
      "cell_type": "code",
      "execution_count": null,
      "metadata": {
        "colab": {
          "base_uri": "https://localhost:8080/"
        },
        "id": "xIe39jz4M2_Y",
        "outputId": "d69d7859-67bb-4f03-be63-63504b2813ab"
      },
      "outputs": [
        {
          "name": "stdout",
          "output_type": "stream",
          "text": [
            "B14.5 : (16, 3)\n",
            "B17.5 : (16, 5)\n",
            "B34 : (16, 2)\n",
            "C15.5 : (11, 18)\n",
            "C20 : (16, 3)\n",
            "B15.5 : (16, 1)\n",
            "B20 : (11, 11)\n",
            "C14.5 : (16, 1)\n",
            "C17.5 : (11, 14)\n",
            "C34 : (16, 1)\n"
          ]
        }
      ],
      "source": [
        "for i in list_files:\n",
        "  print(i,':',GetMaxFlow(view[i]))"
      ]
    },
    {
      "cell_type": "code",
      "execution_count": null,
      "metadata": {
        "id": "3K04X93ZPcFG"
      },
      "outputs": [],
      "source": [
        "for i in list_files:\n",
        "  !samtools flagstat $i\\.bam > flagstat_{i}.txt"
      ]
    },
    {
      "cell_type": "markdown",
      "metadata": {
        "id": "Ieh4KbUnQDcM"
      },
      "source": [
        "Пример файла \n",
        "\n",
        "567186 + 0 in total (QC-passed reads + QC-failed reads)\n",
        "\n",
        "\n",
        "14571 + 0 secondary\n",
        "\n",
        "\n",
        "0 + 0 supplementary\n",
        "\n",
        "\n",
        "0 + 0 duplicates\n",
        "\n",
        "\n",
        "567186 + 0 mapped (100.00% : N/A)\n",
        "\n",
        "\n",
        "0 + 0 paired in sequencing\n",
        "\n",
        "\n",
        "0 + 0 read1\n",
        "\n",
        "\n",
        "0 + 0 read2\n",
        "\n",
        "\n",
        "0 + 0 properly paired (N/A : N/A)\n",
        "\n",
        "\n",
        "0 + 0 with itself and mate mapped\n",
        "\n",
        "\n",
        "0 + 0 singletons (N/A : N/A)\n",
        "\n",
        "\n",
        "0 + 0 with mate mapped to a different chr\n",
        "\n",
        "\n",
        "0 + 0 with mate mapped to a different chr (mapQ>=5)\n"
      ]
    },
    {
      "cell_type": "code",
      "execution_count": null,
      "metadata": {
        "colab": {
          "base_uri": "https://localhost:8080/"
        },
        "id": "pK9W6Sa0sF_R",
        "outputId": "41829412-f2e7-4e67-dcac-c1de2dc52c79"
      },
      "outputs": [
        {
          "name": "stdout",
          "output_type": "stream",
          "text": [
            "B14.5\n",
            "\n",
            "567186 + 0 in total (QC-passed reads + QC-failed reads)\n",
            "14571 + 0 secondary\n",
            "0 + 0 supplementary\n",
            "0 + 0 duplicates\n",
            "567186 + 0 mapped (100.00% : N/A)\n",
            "0 + 0 paired in sequencing\n",
            "0 + 0 read1\n",
            "0 + 0 read2\n",
            "0 + 0 properly paired (N/A : N/A)\n",
            "0 + 0 with itself and mate mapped\n",
            "0 + 0 singletons (N/A : N/A)\n",
            "0 + 0 with mate mapped to a different chr\n",
            "0 + 0 with mate mapped to a different chr (mapQ>=5)\n",
            "B17.5\n",
            "\n",
            "537351 + 0 in total (QC-passed reads + QC-failed reads)\n",
            "12316 + 0 secondary\n",
            "0 + 0 supplementary\n",
            "0 + 0 duplicates\n",
            "537351 + 0 mapped (100.00% : N/A)\n",
            "0 + 0 paired in sequencing\n",
            "0 + 0 read1\n",
            "0 + 0 read2\n",
            "0 + 0 properly paired (N/A : N/A)\n",
            "0 + 0 with itself and mate mapped\n",
            "0 + 0 singletons (N/A : N/A)\n",
            "0 + 0 with mate mapped to a different chr\n",
            "0 + 0 with mate mapped to a different chr (mapQ>=5)\n",
            "B34\n",
            "\n",
            "558269 + 0 in total (QC-passed reads + QC-failed reads)\n",
            "10386 + 0 secondary\n",
            "0 + 0 supplementary\n",
            "0 + 0 duplicates\n",
            "558269 + 0 mapped (100.00% : N/A)\n",
            "0 + 0 paired in sequencing\n",
            "0 + 0 read1\n",
            "0 + 0 read2\n",
            "0 + 0 properly paired (N/A : N/A)\n",
            "0 + 0 with itself and mate mapped\n",
            "0 + 0 singletons (N/A : N/A)\n",
            "0 + 0 with mate mapped to a different chr\n",
            "0 + 0 with mate mapped to a different chr (mapQ>=5)\n",
            "C15.5\n",
            "\n",
            "537134 + 0 in total (QC-passed reads + QC-failed reads)\n",
            "12655 + 0 secondary\n",
            "0 + 0 supplementary\n",
            "0 + 0 duplicates\n",
            "537134 + 0 mapped (100.00% : N/A)\n",
            "0 + 0 paired in sequencing\n",
            "0 + 0 read1\n",
            "0 + 0 read2\n",
            "0 + 0 properly paired (N/A : N/A)\n",
            "0 + 0 with itself and mate mapped\n",
            "0 + 0 singletons (N/A : N/A)\n",
            "0 + 0 with mate mapped to a different chr\n",
            "0 + 0 with mate mapped to a different chr (mapQ>=5)\n",
            "C20\n",
            "\n",
            "567102 + 0 in total (QC-passed reads + QC-failed reads)\n",
            "11707 + 0 secondary\n",
            "0 + 0 supplementary\n",
            "0 + 0 duplicates\n",
            "567102 + 0 mapped (100.00% : N/A)\n",
            "0 + 0 paired in sequencing\n",
            "0 + 0 read1\n",
            "0 + 0 read2\n",
            "0 + 0 properly paired (N/A : N/A)\n",
            "0 + 0 with itself and mate mapped\n",
            "0 + 0 singletons (N/A : N/A)\n",
            "0 + 0 with mate mapped to a different chr\n",
            "0 + 0 with mate mapped to a different chr (mapQ>=5)\n",
            "B15.5\n",
            "\n",
            "542550 + 0 in total (QC-passed reads + QC-failed reads)\n",
            "13822 + 0 secondary\n",
            "0 + 0 supplementary\n",
            "0 + 0 duplicates\n",
            "542550 + 0 mapped (100.00% : N/A)\n",
            "0 + 0 paired in sequencing\n",
            "0 + 0 read1\n",
            "0 + 0 read2\n",
            "0 + 0 properly paired (N/A : N/A)\n",
            "0 + 0 with itself and mate mapped\n",
            "0 + 0 singletons (N/A : N/A)\n",
            "0 + 0 with mate mapped to a different chr\n",
            "0 + 0 with mate mapped to a different chr (mapQ>=5)\n",
            "B20\n",
            "\n",
            "561335 + 0 in total (QC-passed reads + QC-failed reads)\n",
            "12597 + 0 secondary\n",
            "0 + 0 supplementary\n",
            "0 + 0 duplicates\n",
            "561335 + 0 mapped (100.00% : N/A)\n",
            "0 + 0 paired in sequencing\n",
            "0 + 0 read1\n",
            "0 + 0 read2\n",
            "0 + 0 properly paired (N/A : N/A)\n",
            "0 + 0 with itself and mate mapped\n",
            "0 + 0 singletons (N/A : N/A)\n",
            "0 + 0 with mate mapped to a different chr\n",
            "0 + 0 with mate mapped to a different chr (mapQ>=5)\n",
            "C14.5\n",
            "\n",
            "563741 + 0 in total (QC-passed reads + QC-failed reads)\n",
            "13805 + 0 secondary\n",
            "0 + 0 supplementary\n",
            "0 + 0 duplicates\n",
            "563741 + 0 mapped (100.00% : N/A)\n",
            "0 + 0 paired in sequencing\n",
            "0 + 0 read1\n",
            "0 + 0 read2\n",
            "0 + 0 properly paired (N/A : N/A)\n",
            "0 + 0 with itself and mate mapped\n",
            "0 + 0 singletons (N/A : N/A)\n",
            "0 + 0 with mate mapped to a different chr\n",
            "0 + 0 with mate mapped to a different chr (mapQ>=5)\n",
            "C17.5\n",
            "\n",
            "553670 + 0 in total (QC-passed reads + QC-failed reads)\n",
            "12393 + 0 secondary\n",
            "0 + 0 supplementary\n",
            "0 + 0 duplicates\n",
            "553670 + 0 mapped (100.00% : N/A)\n",
            "0 + 0 paired in sequencing\n",
            "0 + 0 read1\n",
            "0 + 0 read2\n",
            "0 + 0 properly paired (N/A : N/A)\n",
            "0 + 0 with itself and mate mapped\n",
            "0 + 0 singletons (N/A : N/A)\n",
            "0 + 0 with mate mapped to a different chr\n",
            "0 + 0 with mate mapped to a different chr (mapQ>=5)\n",
            "C34\n",
            "\n",
            "567829 + 0 in total (QC-passed reads + QC-failed reads)\n",
            "11395 + 0 secondary\n",
            "0 + 0 supplementary\n",
            "0 + 0 duplicates\n",
            "567829 + 0 mapped (100.00% : N/A)\n",
            "0 + 0 paired in sequencing\n",
            "0 + 0 read1\n",
            "0 + 0 read2\n",
            "0 + 0 properly paired (N/A : N/A)\n",
            "0 + 0 with itself and mate mapped\n",
            "0 + 0 singletons (N/A : N/A)\n",
            "0 + 0 with mate mapped to a different chr\n",
            "0 + 0 with mate mapped to a different chr (mapQ>=5)\n"
          ]
        }
      ],
      "source": [
        "for i in list_files:\n",
        "  print(i)\n",
        "  print()\n",
        "  !head flagstat_{i}.txt -n 30"
      ]
    },
    {
      "cell_type": "code",
      "execution_count": null,
      "metadata": {
        "colab": {
          "base_uri": "https://localhost:8080/"
        },
        "id": "r2Q6z2SdP6Rh",
        "outputId": "6dfaeea4-33e6-4733-b801-1b2dd3eb30e1"
      },
      "outputs": [
        {
          "name": "stdout",
          "output_type": "stream",
          "text": [
            "558269 + 0 in total (QC-passed reads + QC-failed reads)\n",
            "10386 + 0 secondary\n",
            "0 + 0 supplementary\n",
            "0 + 0 duplicates\n",
            "558269 + 0 mapped (100.00% : N/A)\n",
            "0 + 0 paired in sequencing\n",
            "0 + 0 read1\n",
            "0 + 0 read2\n",
            "0 + 0 properly paired (N/A : N/A)\n",
            "0 + 0 with itself and mate mapped\n"
          ]
        }
      ],
      "source": [
        "!head flagstat_B34.txt| head -n 30"
      ]
    },
    {
      "cell_type": "code",
      "execution_count": null,
      "metadata": {
        "colab": {
          "base_uri": "https://localhost:8080/"
        },
        "id": "jkneNNwuRsN3",
        "outputId": "ab1b2a31-854a-4be1-cf50-ab74813dad78"
      },
      "outputs": [
        {
          "name": "stdout",
          "output_type": "stream",
          "text": [
            "/content\n"
          ]
        }
      ],
      "source": [
        "%cd /content"
      ]
    },
    {
      "cell_type": "code",
      "execution_count": null,
      "metadata": {
        "colab": {
          "base_uri": "https://localhost:8080/"
        },
        "id": "CZ0Ith25Rv6H",
        "outputId": "3d5cd6b5-1150-4c98-d1bd-f53609b173ad"
      },
      "outputs": [
        {
          "name": "stdout",
          "output_type": "stream",
          "text": [
            "--2022-10-07 09:24:14--  http://ftp.ensembl.org/pub/release-107/gtf/mus_musculus/Mus_musculus.GRCm39.107.chr.gtf.gz\n",
            "Resolving ftp.ensembl.org (ftp.ensembl.org)... 193.62.193.139\n",
            "Connecting to ftp.ensembl.org (ftp.ensembl.org)|193.62.193.139|:80... connected.\n",
            "HTTP request sent, awaiting response... 200 OK\n",
            "Length: 31854002 (30M) [application/x-gzip]\n",
            "Saving to: ‘Mus_musculus.GRCm39.107.chr.gtf.gz’\n",
            "\n",
            "Mus_musculus.GRCm39 100%[===================>]  30.38M  18.9MB/s    in 1.6s    \n",
            "\n",
            "2022-10-07 09:24:16 (18.9 MB/s) - ‘Mus_musculus.GRCm39.107.chr.gtf.gz’ saved [31854002/31854002]\n",
            "\n"
          ]
        }
      ],
      "source": [
        "!wget http://ftp.ensembl.org/pub/release-107/gtf/mus_musculus/Mus_musculus.GRCm39.107.chr.gtf.gz"
      ]
    },
    {
      "cell_type": "code",
      "execution_count": null,
      "metadata": {
        "colab": {
          "base_uri": "https://localhost:8080/"
        },
        "id": "QQj8nUdGYPwU",
        "outputId": "e8421563-60f9-4ec4-f7c3-d3bdaf92fb5a"
      },
      "outputs": [
        {
          "name": "stdout",
          "output_type": "stream",
          "text": [
            "Collecting package metadata (current_repodata.json): done\n",
            "Solving environment: done\n",
            "\n",
            "## Package Plan ##\n",
            "\n",
            "  environment location: /usr/local\n",
            "\n",
            "  added / updated specs:\n",
            "    - bwa\n",
            "\n",
            "\n",
            "The following packages will be downloaded:\n",
            "\n",
            "    package                    |            build\n",
            "    ---------------------------|-----------------\n",
            "    bwa-0.7.17                 |       h7132678_9         187 KB  bioconda\n",
            "    ------------------------------------------------------------\n",
            "                                           Total:         187 KB\n",
            "\n",
            "The following NEW packages will be INSTALLED:\n",
            "\n",
            "  bwa                bioconda/linux-64::bwa-0.7.17-h7132678_9 None\n",
            "\n",
            "\n",
            "\n",
            "Downloading and Extracting Packages\n",
            "bwa-0.7.17           | 187 KB    | : 100% 1.0/1 [00:00<00:00,  5.68it/s]                \n",
            "Preparing transaction: done\n",
            "Verifying transaction: done\n",
            "Executing transaction: done\n",
            "Retrieving notices: ...working... done\n"
          ]
        }
      ],
      "source": [
        "!conda install -c bioconda bwa"
      ]
    },
    {
      "cell_type": "code",
      "execution_count": null,
      "metadata": {
        "id": "TQb9oirXSVyI"
      },
      "outputs": [],
      "source": [
        "#!wget https://sourceforge.net/projects/bio-bwa/files/bwa-0.7.17.tar.bz2"
      ]
    },
    {
      "cell_type": "code",
      "execution_count": null,
      "metadata": {
        "id": "LUDaNaaQStsR"
      },
      "outputs": [],
      "source": [
        "#!tar xvfj bwa-0.7.17.tar.bz2"
      ]
    },
    {
      "cell_type": "code",
      "execution_count": null,
      "metadata": {
        "colab": {
          "base_uri": "https://localhost:8080/"
        },
        "id": "AyU34p0MSxlO",
        "outputId": "999f01f7-ecc2-4225-8580-e339b46ab807"
      },
      "outputs": [
        {
          "name": "stdout",
          "output_type": "stream",
          "text": [
            "/content/bwa-0.7.17\n"
          ]
        }
      ],
      "source": [
        "#%cd bwa-0.7.17"
      ]
    },
    {
      "cell_type": "code",
      "execution_count": null,
      "metadata": {
        "colab": {
          "base_uri": "https://localhost:8080/"
        },
        "id": "tenPjzNqYc0Q",
        "outputId": "eeb36b33-c55b-4ec4-e2e4-e97cbf82e29e"
      },
      "outputs": [
        {
          "name": "stdout",
          "output_type": "stream",
          "text": [
            "\n",
            "Program: bwa (alignment via Burrows-Wheeler transformation)\n",
            "Version: 0.7.17-r1188\n",
            "Contact: Heng Li <lh3@sanger.ac.uk>\n",
            "\n",
            "Usage:   bwa <command> [options]\n",
            "\n",
            "Command: index         index sequences in the FASTA format\n",
            "         mem           BWA-MEM algorithm\n",
            "         fastmap       identify super-maximal exact matches\n",
            "         pemerge       merge overlapping paired ends (EXPERIMENTAL)\n",
            "         aln           gapped/ungapped alignment\n",
            "         samse         generate alignment (single ended)\n",
            "         sampe         generate alignment (paired ended)\n",
            "         bwasw         BWA-SW for long queries\n",
            "\n",
            "         shm           manage indices in shared memory\n",
            "         fa2pac        convert FASTA to PAC format\n",
            "         pac2bwt       generate BWT from PAC\n",
            "         pac2bwtgen    alternative algorithm for generating BWT\n",
            "         bwtupdate     update .bwt to the new format\n",
            "         bwt2sa        generate SA from BWT and Occ\n",
            "\n",
            "Note: To use BWA, you need to first index the genome with `bwa index'.\n",
            "      There are three alignment algorithms in BWA: `mem', `bwasw', and\n",
            "      `aln/samse/sampe'. If you are not sure which to use, try `bwa mem'\n",
            "      first. Please `man ./bwa.1' for the manual.\n",
            "\n"
          ]
        }
      ],
      "source": [
        "!bwa"
      ]
    },
    {
      "cell_type": "code",
      "execution_count": null,
      "metadata": {
        "id": "1eXt9_p0S-DO"
      },
      "outputs": [],
      "source": [
        "#!make"
      ]
    },
    {
      "cell_type": "code",
      "execution_count": null,
      "metadata": {
        "id": "qn3sDgxAXHaW"
      },
      "outputs": [],
      "source": [
        "#!/content/bwa-0.7.17/bwa"
      ]
    },
    {
      "cell_type": "code",
      "execution_count": null,
      "metadata": {
        "id": "lVZipsXpVJL4"
      },
      "outputs": [],
      "source": [
        "!gunzip /content/bwa_data/Mus_musculus.GRCm39.107.chr.gtf.gz"
      ]
    },
    {
      "cell_type": "code",
      "execution_count": null,
      "metadata": {
        "colab": {
          "base_uri": "https://localhost:8080/"
        },
        "id": "NBm-cZjotE-U",
        "outputId": "5fbf0198-d24c-4126-d735-78a8581b326b"
      },
      "outputs": [
        {
          "name": "stdout",
          "output_type": "stream",
          "text": [
            "/content/bwa_data/bwa_data\n"
          ]
        }
      ],
      "source": [
        "!mkdir bwa_data"
      ]
    },
    {
      "cell_type": "code",
      "execution_count": null,
      "metadata": {
        "colab": {
          "base_uri": "https://localhost:8080/"
        },
        "id": "qsxMELk2xyyi",
        "outputId": "eb8ee81d-ebc4-47d5-cea0-ba11b19064ac"
      },
      "outputs": [
        {
          "name": "stdout",
          "output_type": "stream",
          "text": [
            "shell-init: error retrieving current directory: getcwd: cannot access parent directories: No such file or directory\n",
            "pwd: error retrieving current directory: getcwd: cannot access parent directories: No such file or directory\n"
          ]
        }
      ],
      "source": [
        "!pwd"
      ]
    },
    {
      "cell_type": "code",
      "execution_count": null,
      "metadata": {
        "colab": {
          "base_uri": "https://localhost:8080/"
        },
        "id": "sWMnjuNYxvya",
        "outputId": "93ca5eb0-7127-471c-c0c4-975f30b5289e"
      },
      "outputs": [
        {
          "name": "stdout",
          "output_type": "stream",
          "text": [
            "/content/bwa_data\n"
          ]
        }
      ],
      "source": [
        "%cd /content/bwa_data"
      ]
    },
    {
      "cell_type": "code",
      "execution_count": null,
      "metadata": {
        "colab": {
          "base_uri": "https://localhost:8080/"
        },
        "id": "knIwJFj_WIvv",
        "outputId": "c1f05cd9-a4dd-4ef5-909b-b3d3e4219bad"
      },
      "outputs": [
        {
          "name": "stdout",
          "output_type": "stream",
          "text": [
            "/content\n"
          ]
        }
      ],
      "source": [
        "#%cd /content"
      ]
    },
    {
      "cell_type": "code",
      "execution_count": null,
      "metadata": {
        "colab": {
          "base_uri": "https://localhost:8080/"
        },
        "id": "DbQuGI10vhFU",
        "outputId": "9c7a8c57-0190-4175-84e3-110d2129cbcc"
      },
      "outputs": [
        {
          "name": "stdout",
          "output_type": "stream",
          "text": [
            "\n",
            "Usage:   bwa index [options] <in.fasta>\n",
            "\n",
            "Options: -a STR    BWT construction algorithm: bwtsw, is or rb2 [auto]\n",
            "         -p STR    prefix of the index [same as fasta name]\n",
            "         -b INT    block size for the bwtsw algorithm (effective with -a bwtsw) [10000000]\n",
            "         -6        index files named as <in.fasta>.64.* instead of <in.fasta>.* \n",
            "\n",
            "Warning: `-a bwtsw' does not work for short genomes, while `-a is' and\n",
            "         `-a div' do not work not for long genomes.\n",
            "\n"
          ]
        }
      ],
      "source": [
        "!bwa index"
      ]
    },
    {
      "cell_type": "code",
      "execution_count": null,
      "metadata": {
        "id": "-qEbKA_1xiOm"
      },
      "outputs": [],
      "source": [
        "#!rm -rf mapped.sam"
      ]
    },
    {
      "cell_type": "code",
      "execution_count": null,
      "metadata": {
        "colab": {
          "base_uri": "https://localhost:8080/"
        },
        "id": "ZD5lrnw2ZbkL",
        "outputId": "ba659d3b-bbe2-47f5-f583-38e95dcbe9ff"
      },
      "outputs": [
        {
          "name": "stdout",
          "output_type": "stream",
          "text": [
            "[bwa_index] Pack FASTA... 0.55 sec\n",
            "[bwa_index] Construct BWT for the packed sequence...\n",
            "[BWTIncCreate] textLength=59820290, availableWord=16208696\n",
            "[BWTIncConstructFromPacked] 10 iterations done. 26736226 characters processed.\n",
            "[BWTIncConstructFromPacked] 20 iterations done. 49391154 characters processed.\n",
            "[bwt_gen] Finished constructing BWT in 26 iterations.\n",
            "[bwa_index] 30.72 seconds elapse.\n",
            "[bwa_index] Update BWT... 0.20 sec\n",
            "[bwa_index] Pack forward-only FASTA... 0.18 sec\n",
            "[bwa_index] Construct SA from BWT and Occ... 9.08 sec\n",
            "[main] Version: 0.7.17-r1188\n",
            "[main] CMD: bwa index Mus_musculus.GRCm39.dna.chromosome.19.fa\n",
            "[main] Real time: 41.454 sec; CPU: 40.742 sec\n"
          ]
        }
      ],
      "source": [
        "!bwa index Mus_musculus.GRCm39.dna.chromosome.19.fa "
      ]
    },
    {
      "cell_type": "code",
      "execution_count": null,
      "metadata": {
        "colab": {
          "base_uri": "https://localhost:8080/"
        },
        "id": "JkJC8w--wBva",
        "outputId": "abc81504-66f5-4617-d664-ab7b7097bd67"
      },
      "outputs": [
        {
          "name": "stdout",
          "output_type": "stream",
          "text": [
            "61420004 1 3\n",
            "0 3050000 N\n",
            "6739925 50000 N\n",
            "61320004 100000 N\n"
          ]
        }
      ],
      "source": [
        "!head Mus_musculus.GRCm39.dna.chromosome.19.fa.amb -n 20"
      ]
    },
    {
      "cell_type": "code",
      "execution_count": null,
      "metadata": {
        "colab": {
          "base_uri": "https://localhost:8080/"
        },
        "id": "ier0sW8RwHWn",
        "outputId": "6e080d71-0192-4c56-9a52-1e59a281aa2f"
      },
      "outputs": [
        {
          "name": "stdout",
          "output_type": "stream",
          "text": [
            "61420004 1 11\n",
            "0 19 dna:chromosome chromosome:GRCm39:19:1:61420004:1 REF\n",
            "0 61420004 3\n"
          ]
        }
      ],
      "source": [
        "!head Mus_musculus.GRCm39.dna.chromosome.19.fa.ann -n 20"
      ]
    },
    {
      "cell_type": "code",
      "execution_count": null,
      "metadata": {
        "colab": {
          "base_uri": "https://localhost:8080/"
        },
        "id": "D5zukIe-tmqG",
        "outputId": "3ec44b5f-e305-4364-a943-70b13c668b83"
      },
      "outputs": [
        {
          "name": "stdout",
          "output_type": "stream",
          "text": [
            "[Errno 2] No such file or directory: 'bwa_data'\n",
            "/content/bwa_data\n",
            "total 910M\n",
            "-rw-r--r-- 1 root root 831M Jun  4 09:40 Mus_musculus.GRCm39.107.chr.gtf\n",
            "-rw-r--r-- 1 root root  29M Oct  7 09:29 Mus_musculus.GRCm39.dna.chromosome.19.fa\n",
            "-rw-r--r-- 1 root root   41 Oct  7 09:31 Mus_musculus.GRCm39.dna.chromosome.19.fa.amb\n",
            "-rw-r--r-- 1 root root   85 Oct  7 09:31 Mus_musculus.GRCm39.dna.chromosome.19.fa.ann\n",
            "-rw-r--r-- 1 root root  29M Oct  7 09:31 Mus_musculus.GRCm39.dna.chromosome.19.fa.bwt\n",
            "-rw-r--r-- 1 root root 7.2M Oct  7 09:31 Mus_musculus.GRCm39.dna.chromosome.19.fa.pac\n",
            "-rw-r--r-- 1 root root  15M Oct  7 09:32 Mus_musculus.GRCm39.dna.chromosome.19.fa.sa\n"
          ]
        }
      ],
      "source": [
        "%cd bwa_data\n",
        "!ls -lh"
      ]
    },
    {
      "cell_type": "markdown",
      "metadata": {
        "id": "C6c7l20dzARF"
      },
      "source": [
        "#### Для B14.5"
      ]
    },
    {
      "cell_type": "code",
      "execution_count": null,
      "metadata": {
        "id": "LIGSiYq0Uw0B"
      },
      "outputs": [],
      "source": [
        "#for i in list_files:\n",
        "!bwa mem Mus_musculus.GRCm39.dna.chromosome.19.fa /content/drive/MyDrive/HSE/Sem_3/mazin/rn.seq.data/B14.5.fq > mapped.sam 2> log_mem_B14.5.txt"
      ]
    },
    {
      "cell_type": "code",
      "execution_count": null,
      "metadata": {
        "colab": {
          "base_uri": "https://localhost:8080/"
        },
        "id": "QujbLeSbyzKJ",
        "outputId": "a1d8bdb4-106e-4848-f28a-c537918f6089"
      },
      "outputs": [
        {
          "name": "stdout",
          "output_type": "stream",
          "text": [
            "@SQ\tSN:19\tLN:29910145\n",
            "@PG\tID:bwa\tPN:bwa\tVN:0.7.17-r1188\tCL:bwa mem Mus_musculus.GRCm39.dna.chromosome.19.fa /content/drive/MyDrive/HSE/Sem_3/mazin/rn.seq.data/B14.5.fq\n",
            "HISEQ:145:C3JKAACXX:2:2304:1115:66415\t4\t*\t0\t0\t*\t*\t0\t0\tCTCATTCTGTATCTGTCCATCCANCCACCCATCCATCCGTCTGTCTGTCCGTCTGTCCATCCNNTNATTCNNCTNTCCATCCATTCATTATGCATGCTTCC\tB@CFFFFFHHHFHJGIJJJJJJI#3AFHIIIIIIGFGHIIJIIIJIJJJJJJJJIHIGJJJI##-#-5;E##,,#,,=?DDDDDDEEEEEECDEEDDDEDD\tAS:i:0\tXS:i:0\n",
            "HISEQ:145:C3JKAACXX:2:2304:1128:71320\t16\t19\t8264275\t25\t101M\t*\t0\t0\tGAGGTTGAAAATGGTCATTCCCTTTCTAATGAGCTTTTCTCTGTCCCTCTGTGTCTTGGCCTTGCATATAAGGATATAAGCTCTTAATTATTGATCCAGTG\tDDDDDDEEEDDDDDDDEDDDFFFFFDHHGHHHGJJJJJJJIJJJJJJIJIJJJJJJJJJIJJJJJJJJJJJJJJJJJJJJJJJJJJJJHHHHHFFFFFCCC\tNM:i:0\tMD:Z:101\tAS:i:101\tXS:i:91\tXA:Z:19,-7967716,101M,2;\n",
            "HISEQ:145:C3JKAACXX:2:2304:1151:57800\t4\t*\t0\t0\t*\t*\t0\t0\tCACCAGCTCGCGTACTCACTAAGAAAAGAAAAACATCTGGATCCGTGTTGAAACTGTATATATTTTTTTCTCTTTCCGAATAAGACATGGACCCATCAAGT\tB@CDFFFFHH)CDGHJIJJJJJJJJJJGIJJJJIJGIGJJJJIJJHIIJJIIJJJJHHHHHHHHFFFDDCDDDDDCCDDDDDDDDDDDDDDDDDDDDDDDA\tAS:i:0\tXS:i:0\n",
            "HISEQ:145:C3JKAACXX:2:2304:1155:64145\t16\t19\t16362069\t60\t101M\t*\t0\t0\tAAAGCTCCCTGTGTGGTTTGTCGTGAGGTCTGCTTGTATCTCTTCACTGGCGTTAGTTTCATTAGCTCTTTATTCTCCTTACGTTCGAGTGAATCTGCCAA\t#####?8(?B?<0?8BCB?B??A>6(6;DEEEBEH@EECHC=@;8.8@-70*HCIHCCIHGHHGB9GEB@9BC?;>HEGEFIFFCFEH?DA>HDDDDA<@?\tNM:i:0\tMD:Z:101\tAS:i:101\tXS:i:0\n",
            "HISEQ:145:C3JKAACXX:2:2304:1157:57202\t16\t19\t23597545\t15\t101M\t*\t0\t0\tATGGCAGCCGGCTCATAAAAGTTCACTTAGACAAAGCACAGCAGAACAACGTGGAACACAAGGTTGAAACTTTTTCTGGTGTGTACAAGAAGCTCACAGGC\tBB<<B=BB;6(>CCCDDB?BDBE?=EFEFEFIIFEFFFCEIGEFC;EEFIIIEGD?DAIIIFFIFGBFGIIFFDFIIIFIHHC<<FEIFAFFA:?BDD???\tNM:i:0\tMD:Z:101\tAS:i:101\tXS:i:94\tXA:Z:19,-9194190,101M,2;\n",
            "HISEQ:145:C3JKAACXX:2:2304:1172:73562\t16\t19\t8801388\t60\t101M\t*\t0\t0\tTGCCTTGTACATATTGGGCACTGTATCTATGAGCTATAGTCCCAGGCCCACAAACTTTGATTTAGGTTTAGTAAAAGTTCTCTTTCTAGTATTGAGCTGAG\t######AEB;BAA@@;7.).3DCC?7).)@7C=)@7=.(8-((-(7(0))*0***D9?4:<DB?)E<ECFF9FFCC3:?A3+4C+BDEDBDBD;DDAD???\tNM:i:2\tMD:Z:28C52T19\tAS:i:91\tXS:i:0\n",
            "HISEQ:145:C3JKAACXX:2:2304:1199:72609\t4\t*\t0\t0\t*\t*\t0\t0\tGCCTCCCTGCCATTTAGTCCACTGGTCAATTAGAGTGGCAAAAGGCAACATGGTTAACTGCAGCTTGCTTTGTTTTAAAGGGTCTAGATCTCCAACACACC\t?@@B=AB?F=FHFHIBHEEHCEEHGFHIIDHIC>F9CCFHEHG>B2BGHGGHI?DFGHBFCGHHGIEHCCGEA;CA>;@@>B2>6@ACC@CCCA>?BBB68\tAS:i:0\tXS:i:0\n",
            "HISEQ:145:C3JKAACXX:2:2304:1205:50808\t16\t19\t7513442\t60\t39S62M\t*\t0\t0\tTTCACGTGACTGGAGTTCAGACGTGTGCTCTTCCGATCTAATGGTTCCAACTTGTTTTAAAACTACTCACTGCTCGTGAGTGATGGCTGACTGTAAGGGGC\tDDBADDDDDDDDDCDDDDDDBDEEEDFFFFHHHIJJJJIJJJJJIGIGHIIJJJJJIIIIIFHHFJIIHJJJJJJJJJJJJJJJJJJJHHHHHFFFFFCCC\tNM:i:0\tMD:Z:62\tAS:i:62\tXS:i:0\n",
            "HISEQ:145:C3JKAACXX:2:2304:1206:61744\t4\t*\t0\t0\t*\t*\t0\t0\tCCACAAAGTGGGAATTCATCAACTTTTGCTTTCTTCCGTCCCAAATCAAAGATTCGGATCTTAGCATCAGGGACACCACGGCAGAAACGAGACTTTGGGTA\tCCCFFFFFHHHHFIJJJJIJJJIJJJJJJJJJJJJIJJIJJJJJJJJJJJJJJJJIIJIJJJIJJJJJJHHHHFFFFDDDDDDDDDDDDDDDBCDDDDDBD\tAS:i:0\tXS:i:0\n",
            "HISEQ:145:C3JKAACXX:2:2304:1214:96836\t16\t19\t6109172\t60\t38S61M2S\t*\t0\t0\tCTTCCGATCTCTCTGGAAGTAGCAGGCCGCATGCTGGGAGGTAAAGTTCACGGTTCCCTGGCTCGGGCTGGAAAAGTGAGAGGTCAGACTCCCAAGGTGGC\tBDBBDCCBDCDCADCDDDDDCDDDBDDDDDDEEECFFFFEGFHHHHIHG@IHHGJIJJJJJGHBJHEJIGIJJJIIIIGJJJJIJIGFHGHHHFFFFFCCC\tNM:i:0\tMD:Z:61\tAS:i:61\tXS:i:0\tSA:Z:19,6108573,-,10S32M59S,60,0;\n",
            "HISEQ:145:C3JKAACXX:2:2304:1214:96836\t2064\t19\t6108573\t60\t10H32M59H\t*\t0\t0\tCTCTGGAAGTAGCAGGCCGCATGCTGGGAGGT\tDCADCDDDDDCDDDBDDDDDDEEECFFFFEGF\tNM:i:0\tMD:Z:32\tAS:i:32\tXS:i:0\tSA:Z:19,6109172,-,38S61M2S,60,0;\n",
            "HISEQ:145:C3JKAACXX:2:2304:1215:95536\t4\t*\t0\t0\t*\t*\t0\t0\tGCTCAATCTCTGAGAGTTCTGTCACACTGTTTAAGACCTCTTTCAGGTTACTGAAACTGTGCAGAAGGGGATCCCGTTCTTCATCCAGTGGTATATGGGTG\tCCCFFFFFHHHHHJHIHIIJJJJJJIJJJJGJJJGJJJJJIJJJJJJGHIJJJJJJJJJJJJJJJIIJJJIJIIIAEHHFFFFFFEEEECECCDEEDDDDD\tAS:i:0\tXS:i:0\n",
            "HISEQ:145:C3JKAACXX:2:2304:1219:100576\t4\t*\t0\t0\t*\t*\t0\t0\tGCAGTTATTTAGTTCCAGGATTATTAAATTCTGGCAATCAATGTTAGAGAACAAAAAGCAATTGTACAAACGGGATAGATTATGCACAGGCAGAAAATTGT\tCCCFFFFFHHHHHJJJJJJJJJJJJIJJJJJJIJJJJJJJJJJJJJJIJJJJIJJJJJIJJJJJHHIJJJJIJJHHEHHFFFFFFEEEEDDDDDDDDDDDA\tAS:i:0\tXS:i:0\n",
            "HISEQ:145:C3JKAACXX:2:2304:1236:59320\t4\t*\t0\t0\t*\t*\t0\t0\tGTCCTGATAATCCAGTCGTAGATTTATTATTTACCTATAAGGTTTTAATCTACATAGAAAGTGTGATGCCAGTCACACCCAGAGTTCATAACAATCCAGAA\tCCCFFFFFGHHGHIJIJJHIJJGGDEGIJIJIIJIJJIJJJJDDHIIIJIJJIGIIIHIJDBFHHIJJIJIIGGIHGJJHHHHFCDFFFECEEEEDDDDDC\tAS:i:0\tXS:i:0\n",
            "HISEQ:145:C3JKAACXX:2:2304:1239:88237\t16\t19\t18694923\t60\t101M\t*\t0\t0\tATACTTGTGTTTGCATTTTTAATGAAAAAGTTTTGTTCACGCTCTTGACTTTGAAGATGCTTATCTTGGAAAAGGAGGTTTTGGCAGTTTCAGAGGAAGCC\t>:AABBBA=A>>;6>>A63B;;7>B??)HEEGE@=@F8A7)8???BB9DGB09?DB??*EFDC@<EF@FGFIIG?CHBHFBAIGGEGFDDAHCBDDDD@<?\tNM:i:0\tMD:Z:101\tAS:i:101\tXS:i:0\n",
            "HISEQ:145:C3JKAACXX:2:2304:1242:88554\t16\t19\t5543877\t60\t101M\t*\t0\t0\tAGTGACTCTGTGCTTGTCTGTTTAGTTCTGTGTGTAAATGAAATGTGGAAATGACCCTCCCTGCCCCAGCTGGCTGCCCTCCCCTTTCCTTTGATCTTGAC\tCDCC@DDDDDDDDDDDDDDDDDDDC@DDDDDDDEEFFEEEEDECEDEEEFFEB;HHJIJJJIJJJJJJJJIJJJJIJJJJJJJJJJJJHHHHHFFFFFCCC\tNM:i:0\tMD:Z:101\tAS:i:101\tXS:i:0\n",
            "HISEQ:145:C3JKAACXX:2:2304:1258:68170\t4\t*\t0\t0\t*\t*\t0\t0\tGTCCCTGCAGGTCTGGTGGTAGCTGTTGAGCCAGTCACACTCTTTATCTGTAAGAGCATTCACATCTATCATTTTGGTCTGGATGGGAACCAAAGTTAGAG\t??<DDDD?>D?ABFFI:C@8?B@EHIIFB@GFBF<DAG@AFFFFFEEFFIGFIEEA?=CFEBFFGIIIGD@ACEEEECCFEDDDB=@>>B?=5=@(:@@@A\tAS:i:0\tXS:i:0\n",
            "HISEQ:145:C3JKAACXX:2:2304:1261:47029\t4\t*\t0\t0\t*\t*\t0\t0\tGTGGATTCCTGAAATTAATTTACGATTTAAAACCGGGGATATAGCGCCAAGGGGTTTAATAGAAAGTGTTGTTGGAGTACGTTTGGGACTGTGACTCAACG\tCCCFFFFFHHHHHJJJJJJJJJJJJJJJJJJJJJJJJJGGIIJHIJJJJJJHHHBDCEEEEEDDDDCCDDDDDDDDDCDDDDDDDDDDDDDDDEDDDDDDD\tAS:i:0\tXS:i:0\n",
            "HISEQ:145:C3JKAACXX:2:2304:1262:63099\t16\t19\t5418151\t60\t101M\t*\t0\t0\tCATCCAAATAATTCTGGAAGAAGAACTGACAGTCTGTGCACCCTAACAACCCTGGACAGAAACCAGCATGTCTCAGGCCAGCAAGAGGAAGCATGTGGTGC\tCDDDDEEEDDDDDDDEEEEEEEFFFEFFFHHHHEJIIGGCJIJIGHIHFJJJJJJJJJJIIIJJJJJJJJJJIIJJJIIJJJJJJJJJHHHHHFFFFFB@B\tNM:i:0\tMD:Z:101\tAS:i:101\tXS:i:0\n",
            "HISEQ:145:C3JKAACXX:2:2304:1268:84171\t4\t*\t0\t0\t*\t*\t0\t0\tGCCGTCCAAAAACTTCCTGATATCCTTGTTTTTAACTGTTGTGGCTTGCTGAAATTTGGGCGCGCTACTTTAAAAAAGATTAATGTATTTTACCTCCAGAA\t??8:+)02AC?;C<?ACEA@E@?AB?<A2::1C?CD?C1:90082)??@A*=B################################################\tAS:i:0\tXS:i:0\n",
            "HISEQ:145:C3JKAACXX:2:2304:1276:88559\t0\t19\t10041619\t60\t62M39S\t*\t0\t0\tCGGCAGCGTCATTTATGGAGGTAAGCATCCAGCCACAGCTCCCCAGACTTCTTCAGTGAACTCACAATGTCGATCAGGGCCCTCAGCAACGGCTTCTCCTG\t=+=<1A1)2<02?@BC<<+2<?@B>B4*1*::3:A?;AAB7><0)<AAB7>>BB>AB?BB:;A>A####################################\tNM:i:1\tMD:Z:7T54\tAS:i:57\tXS:i:0\tSA:Z:19,10042050,+,60S41M,60,0;\n",
            "HISEQ:145:C3JKAACXX:2:2304:1276:88559\t2048\t19\t10042050\t60\t60H41M\t*\t0\t0\tCTCACAATGTCGATCAGGGCCCTCAGCAACGGCTTCTCCTG\t:;A>A####################################\tNM:i:0\tMD:Z:41\tAS:i:41\tXS:i:0\tSA:Z:19,10041619,+,62M39S,60,1;\n",
            "HISEQ:145:C3JKAACXX:2:2304:1290:67112\t0\t19\t6893952\t60\t101M\t*\t0\t0\tGTCCACAAGGCTGCTATGCTCAGCTCAAGATGCCTCCCCAGAGAAACCCTCCAGCCCCAGTCCTGACCGGCCCTTAGCACACACCCTGCTCTCTGCCTTCC\tBCCFFFFFHHHHHJJJJJJJJJJJJJJJJJIJJJJJJJJJJJJJJJJIJJJJJIJJJJJJHIHHHHHGFDDDDDDCDDDDDDDDBDDDDDDDDDDDDDDDD\tNM:i:0\tMD:Z:101\tAS:i:101\tXS:i:0\n",
            "HISEQ:145:C3JKAACXX:2:2304:1291:55202\t4\t*\t0\t0\t*\t*\t0\t0\tGGGAGCTTATAAAATACAAAGACAAGTATAAAAGGACTGTGTACTCTAAATCTAAAAACTCAATAATAACCAAATATTTAGTTTTAAAATTTACAGTTCTG\tCCCFFFFFHHHHHJJJJJJJJJJJJJHHIJJJJJJJIJJIJJJJJJJJJJJJJJJJJJJJJJJJJJJJJJIIJJJIHGHHHHHHFFFFFFEEEDEEEDDED\tAS:i:0\tXS:i:0\n",
            "HISEQ:145:C3JKAACXX:2:2304:1296:74950\t0\t19\t24267503\t60\t101M\t*\t0\t0\tCACCAAAGCCACCACGACCACTGAAGTTCCCTCCTCGACCAAAATTGTCATTGCCACCAAAACCGCCTCCACGACCACCACCAAAGTTTCCAGAACCACTG\tCCCFFFFDHHHHDHJIIIJIJ@EFGGIJJJIJIIDIEGGHIJIHGHIIJJIGHIJGHFFEFFBB=>BBBDDD?BDBDDDDDDDDD?:ADCAC(:?CBDDA>\tNM:i:0\tMD:Z:101\tAS:i:101\tXS:i:0\n",
            "HISEQ:145:C3JKAACXX:2:2304:1304:56449\t16\t19\t8747936\t60\t29S72M\t*\t0\t0\tCAGATCTGCTCAGGCCTTCACTCTTCTCAAGGCCAAGGGAGAGATTCCAGAAGTAGCGTTTATGAAATGATCACAAGAAAAGTCCCCTTGTAAATAGCCCC\tDEDDDDDCDDDDDDDDEEE@EEFFFDFFHHHHHJJJJJJJJJJJJJIJJJJJJJJJJIJIIHIJJJJJJJIIJJJJJJJJJJIJJJJJHHHHHFFFFFCCC\tNM:i:0\tMD:Z:72\tAS:i:72\tXS:i:0\tSA:Z:19,8747654,-,32M69S,60,0;\n",
            "HISEQ:145:C3JKAACXX:2:2304:1304:56449\t2064\t19\t8747654\t60\t32M69H\t*\t0\t0\tCAGATCTGCTCAGGCCTTCACTCTTCTCAAGG\tDEDDDDDCDDDDDDDDEEE@EEFFFDFFHHHH\tNM:i:0\tMD:Z:32\tAS:i:32\tXS:i:0\tSA:Z:19,8747936,-,29S72M,60,0;\n",
            "HISEQ:145:C3JKAACXX:2:2304:1305:99941\t16\t19\t16361063\t60\t12S89M\t*\t0\t0\tTCTCTTTCGTGTTCTCTCTCTCTCTCTCTCTCTCTCTCTCTCTCTCTCTCTCTCTCTCTCTCTCATTCCTTTCCTTCTTCCTCCTCCCCTTTCCTTTTGAC\t##############?@BBBBB?<?88<?7?8<8B<=5DB?=AEFFEEC=GEGDIIHFFHHFD<GFD2IIHG>IHD:F>EGE?HF@JJIHHHHHFFFFF@?@\tNM:i:0\tMD:Z:89\tAS:i:89\tXS:i:58\n",
            "HISEQ:145:C3JKAACXX:2:2304:1308:98174\t4\t*\t0\t0\t*\t*\t0\t0\tGTCAGCTGATATCAAAGGCACAAAAGTCCAACCCCTTACACAGGAAAAGGACTCTATTAAATGTGTGATTAAAGATGGGATTCATCTGACTCCATGTGATG\tC@@FFFFFHHHHHIIJJJJCIIJJJIFHHHIJJJJIJJIJJJIIJJIJIIJJGIIJJGGHIIJGHGHIIJJGHHHHHFFFFEEEEEDCDDDDDDDDDDEEC\tAS:i:0\tXS:i:0\n",
            "HISEQ:145:C3JKAACXX:2:2304:1312:55745\t4\t*\t0\t0\t*\t*\t0\t0\tTCTCGATCTTGATTATCTCTGTCCTTCTCTTTGTCTCTATCCCATTCACGTTCTTCTGATGGTCTTGATTCTCGAGGTGGACCCCAACTCTCTTCTCTAGC\tC@CFDEFFHHHAHIBHIIJIJIHIGCFEHHGJIEHGFHCEHHIGHGICHGHHGHGIJCCGDFGGIJJJGIJJJIIEGACHHHFEFCCDEDCDDDDDDDEDD\tAS:i:0\tXS:i:0\n",
            "HISEQ:145:C3JKAACXX:2:2304:1315:91982\t16\t19\t8806995\t60\t6S95M\t*\t0\t0\tCGATCTCCCTGGTTTGATCCCCAAACCACCCAAAACTAAAGTATGCTTCCTCTGGTAGATTTTCATGCATTCTTACCCTGTCTGTGCACTTTCTAGGCCCG\tDDDBDDDDDDDDDDDDDDDDDDBBAAFBHGHJJIHJIIJJJJJIJJJJJJJJJIJJJJJIJJIIJIJJIGHIIFCJJJJJJJJJJJHHHHHGHFFFFFCCC\tNM:i:1\tMD:Z:94A0\tAS:i:94\tXS:i:0\n",
            "HISEQ:145:C3JKAACXX:2:2304:1325:65175\t4\t*\t0\t0\t*\t*\t0\t0\tCCCTCGAAGCACAGCACCTGGTATGCTGTACAGCCGACGCGGCCAGGCTTCTGCACTGCTGCACGAGAGCCTTTCTGTGAAATTCATGGCATCTCAGCTCT\tCCCFFFFFHHHHHJIGIJIJJGGIJJJJJJJJIJIJJJIJJJHFFFDDEEDDDDDDDDDDDDDDDBDBBDDDDDDCDCCDDDDDDDEDCDDDDDDCCDDDD\tAS:i:0\tXS:i:0\n",
            "HISEQ:145:C3JKAACXX:2:2304:1331:99092\t16\t19\t6954352\t60\t101M\t*\t0\t0\tCTTCATCTCTGGCCTGCTGGACAAGATCCGGGGCATGCAGAAGCTGAGCACGCCCCAGAAGAAATGAGGGTCCTGACTCAGACGGCCGTGGCTCCCACAGG\t#ACCCCB?<?<528?>@C>:>C>>9>9BBB?@A>:>CCCCCCCCCA=>3,9'A;CG@GBDBF=8GD?FFBADHAHFEHGHC?HGGBIHDBHHHDDB=D8?=\tNM:i:1\tMD:Z:51A49\tAS:i:96\tXS:i:0\n",
            "HISEQ:145:C3JKAACXX:2:2304:1332:69558\t4\t*\t0\t0\t*\t*\t0\t0\tGGGTGGGGCACGAACCTTTACTGTAGACCCTTGAGAAGTTGGTGTACTCTGGAAGGTGAACACTGACCTATAGCTGAGCGGCGGCTGGCTTGGGAGAAGCA\t@C@DFFFFGGHHHGIIJIJJJJIIGCGIJJIJIEIIJHGGIEIJGGHIIJJIJJHGAHFFFFEBCEEECECDEDDDCBDDBBD<>>BD@CD-?88?.2<>C\tAS:i:0\tXS:i:0\n",
            "HISEQ:145:C3JKAACXX:2:2304:1340:56766\t4\t*\t0\t0\t*\t*\t0\t0\tCTGGCTCTCTGTCTCTGTTCCTGGGTACCAGCAAATTGGAAGGTGTATTTTGACACAGACATCCAATTCTACAACGTGCAAGCTGTCTATCATTCCACATT\tCCCFFFFFHHHHHJJJJJJJJJJIIGHJJIHIJJIIJJJJJJJGGHGGIJJJIJIJJJJJJJIJJJJJJJJJJJJHHHFFFFFEEEEEEEDDEEEEEDDDD\tAS:i:0\tXS:i:0\n",
            "HISEQ:145:C3JKAACXX:2:2304:1347:51273\t4\t*\t0\t0\t*\t*\t0\t0\tCCTGATACTGAGTGTGTCTACAGACTGACTACTGAGAATCCAACAATAGTATCGATTCTGCTTTATGGAATCTATTCCTGAGGAATAACTCATGGGCTGCT\tCCCFFFFFHHHHHIGIJJJJJJJJIJJIJJJJJJJJJJJJJJJJJJJJJGDGEHJJJJJJJJJJJJJIIIJIJJJHHIIHGHHGFFFEDFDEEEDDDDDDD\tAS:i:0\tXS:i:0\n",
            "HISEQ:145:C3JKAACXX:2:2304:1354:83410\t4\t*\t0\t0\t*\t*\t0\t0\tTTCAACTGTTCTATTGTGAGGCTGTACTGGTCACAGCCCTCTCGTATTGGCCACTCAAGTCCATCTCCTTCAGGAACTCCCGACCATGTAAACACCTGTTT\tCCCFFFFFHHHHHJJJJJJJJJJJJJJJJJJJIJJIIJJJJJJJIJJJJJJJJJJJJIJGJJIJJJJJJJJIHHHEHFFFFDDDDDDDEEEEDDDDCDDDD\tAS:i:0\tXS:i:0\n",
            "HISEQ:145:C3JKAACXX:2:2304:1356:51801\t0\t19\t6884935\t60\t101M\t*\t0\t0\tCCCCACTCTTCAATCACAAAGACGTCATTAACGCTCAGACAGGCCACCACCTGCGCTCCCTTGGCCTTCAGAGCTCCAGCTTGCTCCACAAACCCAGGCAG\tCCCFFFFFHHGHHGGIJIJJJJJJHHIJJJJJGICHGGGIIJJJJJJJGIIIJJIIHHGFEFFCEEDCEDDDDDDCDDCDDDDDDDDDDDBBDDBDBDDDB\tNM:i:0\tMD:Z:101\tAS:i:101\tXS:i:0\n",
            "HISEQ:145:C3JKAACXX:2:2304:1357:93795\t4\t*\t0\t0\t*\t*\t0\t0\tGGCGGCACAGGTGGCAGAGGCATGCGTGCATGCATCCTGACAACTGGGATTGGATTTATAGCTTGGACCCAACAATTACGATCAACTGATCTGGTAGGACT\tCCCFFFFFHHHFHJJJJJJJIJJJJJEHIJJJIBIIJJJJIJJJJJJJIJJIHFHHHHFFDFFFFDEEEDBBDBDCDDDDDDDDDDDDDDDEDDCDDBDCD\tAS:i:0\tXS:i:0\n",
            "HISEQ:145:C3JKAACXX:2:2304:1370:77268\t0\t19\t5329549\t60\t94M7S\t*\t0\t0\tACCTCCTCCTCCTCCTCTTCTGAGGATTCTTCATCAGATGGTTCCAGTTCCCCCCACGGGGTCCGGTCAATTTCTTCTTCTTCCGTTTTGGTCTGAAACTC\t@@@DFFFFGHHHHIGIEGII4AAEFBEIIGGHGGIIGIIFEHFDFEFBFGIGGHHIIEAHB',;<A9;;>;CCDECACDCDC:3&4:>@<&8:>3::::AC\tNM:i:1\tMD:Z:0T93\tAS:i:93\tXS:i:20\n",
            "HISEQ:145:C3JKAACXX:2:2304:1384:75489\t4\t*\t0\t0\t*\t*\t0\t0\tGCTACACAATAATGCATTGCCTCTATCATGTTAGAACGTGCATTAGACTCAAATACAAAAACCAGGAAACAAATCACCATCCTTCAACAATTTGAGCAAAG\tCCCFFFFFHHHHHJJJJJJJJJJJJJJJJJJJIJJJJGGHIIIJJJJJJJJJJJJJIJJIJJJIIJJJJJJHHHHHFFFFFEEEEEEEDDDDDDDDDDDDD\tAS:i:0\tXS:i:0\n",
            "HISEQ:145:C3JKAACXX:2:2304:1385:66650\t4\t*\t0\t0\t*\t*\t0\t0\tCTGAGATTCTTTGCCATAGTCCTTAACCACTACGCAACTGCAACCAACCACCTTCCGTGGTTTGCCCTCTCGATCGATTTTACAGAGGCCTACCCATTCCC\tCCCFFFFFHGHHHJJJJJJJJJJJJJIJJJJJJJJJJIJJJHHIIJJJIIJJJJJIJIJJIJHHHHFFFFFDEEEBDDDDDEDDDDDDDDDDDDDDDDEED\tAS:i:0\tXS:i:0\n",
            "HISEQ:145:C3JKAACXX:2:2304:1389:61424\t4\t*\t0\t0\t*\t*\t0\t0\tGGCACCTTGTGGTTGCCCATGAAGAAGTGATAGAGTTTCTTCTCCAGCAGGCTCCTCTCCAGGAAGCAGAAGAGGTCCTGCAGGCGTACATCCAGCAGATC\t@CCFFFFFHHHHHGIJIJIJJIGHGIHAFHGEAGHHIJIIJGIJIIGIIHHIJJJGHIIHIIJJJJIGIHHHEDFCEFEECECBBD=?BDCDDDDDDDDCC\tAS:i:0\tXS:i:0\n",
            "HISEQ:145:C3JKAACXX:2:2304:1411:54451\t0\t19\t4852073\t60\t74M27S\t*\t0\t0\tGTCTACATTCCCAAACAAGCTATTCCCACTCATGGGCCCTGCACAAAAAGACCTTGGTTTATCAACAGAACGACAGATCGGAAGAGCACACGTCTGAACTC\tCCCFFFFFHHHHHJJJJJJJJIIDHJJJJIJIGIJJIJJJIIIGHHIJIJJJJJJJJFHIJJJJIJHHHHHFFDD@DDDDBDDDDDDDDDDBDDDBDDDCD\tNM:i:0\tMD:Z:74\tAS:i:74\tXS:i:0\n",
            "HISEQ:145:C3JKAACXX:2:2304:1422:61224\t0\t19\t7404761\t60\t101M\t*\t0\t0\tCCCCACTCTTGCCCCATACTATTTATTCATAAGTTAATCATTATTTCCTAACTTAAAAATAAGGGCAAAATTATAAATGGGAGCTGTATACGAGTCCTTGG\tCCCFFFFFHGHHHJJJJJJJJIJJIIJIIJJJIIJJJJIIJJJJJJJJJJJJJJJJJJJJJJJJJJJJJJJJJJJIJJGHGHHFFFFEEEECDDBDDDDDC\tNM:i:1\tMD:Z:0T100\tAS:i:100\tXS:i:0\n",
            "HISEQ:145:C3JKAACXX:2:2304:1426:70366\t16\t19\t7514504\t60\t101M\t*\t0\t0\tTACTGGGTCAGGCCTCTGAATGTTTATGCTTGATTCACTTTCTCTCACTCATTAAGACAGACACGCATTGTATTTTCCATGTAGTTTCTTTAGTAGGTCAC\tDDDDDDDDDDDDDEEFFFFFFHHHHHHJJJJJJIHHCJIJJJIIIHDIJJJJJJJJJJJIIIHJJIJJJJIJJJJJJJJJJJJJJJJJHHHHHFFFFFCCC\tNM:i:0\tMD:Z:101\tAS:i:101\tXS:i:0\n",
            "HISEQ:145:C3JKAACXX:2:2304:1427:65661\t4\t*\t0\t0\t*\t*\t0\t0\tCCCTGGCTCATAATGGGCTCCTGGTAAACTGTTGTAACTACAGTTGTGGCATTTAAAGAGGGTGCAGCAACTAAGGGAGTCCCATCAACTACACTTGTCTT\tCCCFFFFFHHHHHJJJJJJJJJJJJIJJJJJIJJJJJJJJJJJIJJIJJJJJJJJJJJJJIJGHHIJJJJHHHHHFFDDACEEDDDDDDDDDDDDDDDDDC\tAS:i:0\tXS:i:0\n",
            "HISEQ:145:C3JKAACXX:2:2304:1437:81563\t16\t19\t11909501\t60\t45S56M\t*\t0\t0\tCTCATCACCCCTCAGGTGGCCAAACTGGAGCATGCTTATCAGCCTGTGCAGTTTGAGGGCTCGTTGGGGAAGCTTACTGTCTCTAGTGTGAATAATCCTCG\tCDDDB>5BB??DDDDDCDDBCDCEEEFFFFFEHHEHHHIIGIIGIIIGJIJJJJJIIGGGIFJJJJJJJGIJIJJJIJIIIIJJJIHFGHFHHDFFFFCCC\tNM:i:0\tMD:Z:56\tAS:i:56\tXS:i:0\tSA:Z:19,11908975,-,46M55S,60,0;\n"
          ]
        }
      ],
      "source": [
        "!head mapped.sam -n 50"
      ]
    },
    {
      "cell_type": "code",
      "execution_count": null,
      "metadata": {
        "colab": {
          "base_uri": "https://localhost:8080/"
        },
        "id": "NKMm1PeSy2Lu",
        "outputId": "cf9da008-9e40-454a-ba1d-4b84aeea9730"
      },
      "outputs": [
        {
          "name": "stdout",
          "output_type": "stream",
          "text": [
            "[M::bwa_idx_load_from_disk] read 0 ALT contigs\n",
            "[M::process] read 99010 sequences (10000010 bp)...\n",
            "[M::process] read 99010 sequences (10000010 bp)...\n",
            "[M::mem_process_seqs] Processed 99010 reads in 11.082 CPU sec, 11.117 real sec\n",
            "[M::process] read 99010 sequences (10000010 bp)...\n",
            "[M::mem_process_seqs] Processed 99010 reads in 11.077 CPU sec, 10.885 real sec\n",
            "[M::process] read 99010 sequences (10000010 bp)...\n",
            "[M::mem_process_seqs] Processed 99010 reads in 10.808 CPU sec, 10.639 real sec\n",
            "[M::process] read 99010 sequences (10000010 bp)...\n",
            "[M::mem_process_seqs] Processed 99010 reads in 10.834 CPU sec, 10.743 real sec\n"
          ]
        }
      ],
      "source": [
        "!head log_mem_B14.5.txt"
      ]
    },
    {
      "cell_type": "code",
      "execution_count": null,
      "metadata": {
        "colab": {
          "base_uri": "https://localhost:8080/"
        },
        "id": "kCie-qT2QYeM",
        "outputId": "fd6629dd-56f6-4c44-ee4e-dfb022854ffc"
      },
      "outputs": [
        {
          "name": "stdout",
          "output_type": "stream",
          "text": [
            "Collecting package metadata (current_repodata.json): ...working... done\n",
            "Solving environment: ...working... done\n",
            "\n",
            "## Package Plan ##\n",
            "\n",
            "  environment location: /usr/local\n",
            "\n",
            "  added / updated specs:\n",
            "    - samtools\n",
            "\n",
            "\n",
            "The following packages will be downloaded:\n",
            "\n",
            "    package                    |            build\n",
            "    ---------------------------|-----------------\n",
            "    ca-certificates-2022.9.24  |       ha878542_0         150 KB  conda-forge\n",
            "    certifi-2022.9.24          |     pyhd8ed1ab_0         155 KB  conda-forge\n",
            "    conda-22.9.0               |   py37h89c1867_1         960 KB  conda-forge\n",
            "    openssl-1.1.1s             |       h166bdaf_0         2.1 MB  conda-forge\n",
            "    samtools-1.3               |                0         1.5 MB  bioconda\n",
            "    ------------------------------------------------------------\n",
            "                                           Total:         4.8 MB\n",
            "\n",
            "The following NEW packages will be INSTALLED:\n",
            "\n",
            "  samtools           bioconda/linux-64::samtools-1.3-0\n",
            "\n",
            "The following packages will be UPDATED:\n",
            "\n",
            "  ca-certificates                      2022.6.15-ha878542_0 --> 2022.9.24-ha878542_0\n",
            "  certifi            conda-forge/linux-64::certifi-2022.6.~ --> conda-forge/noarch::certifi-2022.9.24-pyhd8ed1ab_0\n",
            "  conda                               4.14.0-py37h89c1867_0 --> 22.9.0-py37h89c1867_1\n",
            "  openssl                                 1.1.1q-h166bdaf_0 --> 1.1.1s-h166bdaf_0\n",
            "\n",
            "\n",
            "Preparing transaction: ...working... done\n",
            "Verifying transaction: ...working... done\n",
            "Executing transaction: ...working... done\n",
            "Retrieving notices: ...working... done\n"
          ]
        }
      ],
      "source": [
        "!conda install -c bioconda samtools -yq"
      ]
    },
    {
      "cell_type": "code",
      "execution_count": null,
      "metadata": {
        "id": "LcFK7ixdRQJM"
      },
      "outputs": [],
      "source": [
        "!samtools view -bS /content/drive/MyDrive/HSE/Sem_3/mazin/rn.seq.data/B14.5.sam > /content/drive/MyDrive/HSE/Sem_3/mazin/rn.seq.data/B14.5.bam\n",
        "\n",
        "!samtools sort /content/drive/MyDrive/HSE/Sem_3/mazin/rn.seq.data/B14.5..bam -o /content/drive/MyDrive/HSE/Sem_3/mazin/rn.seq.data/B14.5.sorted.bam\n",
        "!samtools index /content/drive/MyDrive/HSE/Sem_3/mazin/rn.seq.data/B14.5.sorted.bam"
      ]
    },
    {
      "cell_type": "markdown",
      "metadata": {
        "id": "X6G8g-8XzNJH"
      },
      "source": [
        "#### Теперь подготовим такие файлы для всех ( внутри таблицы и есть все ответы)"
      ]
    },
    {
      "cell_type": "code",
      "execution_count": null,
      "metadata": {
        "id": "0fbVfJL_zS--"
      },
      "outputs": [],
      "source": [
        "for i in list_files:\n",
        "  !bwa mem Mus_musculus.GRCm39.dna.chromosome.19.fa /content/drive/MyDrive/HSE/Sem_3/mazin/rn.seq.data/$i\\.fq > mapped_{i}.sam 2> log_mem_{i}.txt"
      ]
    },
    {
      "cell_type": "code",
      "execution_count": null,
      "metadata": {
        "colab": {
          "base_uri": "https://localhost:8080/"
        },
        "id": "YGMpY0z_zTIN",
        "outputId": "c064c8a4-b2f1-4842-b384-348be18e1a0c"
      },
      "outputs": [
        {
          "name": "stdout",
          "output_type": "stream",
          "text": [
            "log_mem_B14.5.txt  mapped_B34.sam\n",
            "log_mem_B15.5.txt  mapped_C14.5.sam\n",
            "log_mem_B17.5.txt  mapped_C15.5.sam\n",
            "log_mem_B20.txt    mapped_C17.5.sam\n",
            "log_mem_B34.txt    mapped_C20.sam\n",
            "log_mem_C14.5.txt  mapped_C34.sam\n",
            "log_mem_C15.5.txt  mapped.sam\n",
            "log_mem_C17.5.txt  Mus_musculus.GRCm39.107.chr.gtf\n",
            "log_mem_C20.txt    Mus_musculus.GRCm39.dna.chromosome.19.fa\n",
            "log_mem_C34.txt    Mus_musculus.GRCm39.dna.chromosome.19.fa.amb\n",
            "mapped_B14.5.sam   Mus_musculus.GRCm39.dna.chromosome.19.fa.ann\n",
            "mapped_B15.5.sam   Mus_musculus.GRCm39.dna.chromosome.19.fa.bwt\n",
            "mapped_B17.5.sam   Mus_musculus.GRCm39.dna.chromosome.19.fa.pac\n",
            "mapped_B20.sam\t   Mus_musculus.GRCm39.dna.chromosome.19.fa.sa\n"
          ]
        }
      ],
      "source": [
        "!ls "
      ]
    },
    {
      "cell_type": "markdown",
      "metadata": {
        "id": "ukMfgduq0TsF"
      },
      "source": [
        "> mapped.sam - запись результатов в файл,\n",
        "\n",
        "2> log_mem.txt - запись stderr (который многие алгоритмы используют как поток лога) в файл."
      ]
    },
    {
      "cell_type": "markdown",
      "metadata": {
        "id": "F4dOrBAa0Zz-"
      },
      "source": [
        "a. Файл состоит из шапки с тэгами и собственно самой таблицы. В шапке находится информация о поданных чтениях, референсе и программе, которая использовалась для картирования. От тела файла строки шапки отличаются символом @ в начале строки. В теле файла содержится информация о всех поданных ридах, качестве их картирования, секвенирования, и ещё некоторые данные, которые будут описаны в пункте b.\n",
        "\n",
        "\n",
        "b. В sam-файле содержится 11 обязательных столбцов и могут содержаться дополнительные. Для примера разберём, что может быть представлено в sam-файле для картированного и некартированного рида. Характеристики обязательных столбцов sam-файла и примеры к ним представлены в Таблице 1."
      ]
    },
    {
      "cell_type": "markdown",
      "metadata": {
        "id": "OAwF6p1B0g8Y"
      },
      "source": [
        "#### Таблица 1. Характеристики обязательных столбцов sam-файла\n",
        "'https://docs.google.com/spreadsheets/d/1Cg7zcREDBLIRRp4V65SIh6ppRCWzCoSo_2_hyPw-1tQ/edit?usp=sharing'\n"
      ]
    },
    {
      "cell_type": "markdown",
      "metadata": {
        "id": "09ijYjXS0oF-"
      },
      "source": [
        "Некоторые опциональные столбцы в приведенных примерах:\n",
        "\n",
        "NM - расстояние до референса\n",
        "\n",
        "MD - позиции мисмэтчей (нужен для SNP/индель-коллеров)\n",
        "\n",
        "MC - CIGAR для следующего сегмента\n",
        "\n",
        "AS - score выравнивания"
      ]
    },
    {
      "cell_type": "code",
      "execution_count": null,
      "metadata": {
        "id": "PNvUtPp2VZJk"
      },
      "outputs": [],
      "source": [
        "!head mapped.sam"
      ]
    },
    {
      "cell_type": "code",
      "execution_count": null,
      "metadata": {
        "id": "_UnQqy3L0Wed"
      },
      "outputs": [],
      "source": [
        "#sort uniq wc "
      ]
    },
    {
      "cell_type": "code",
      "execution_count": null,
      "metadata": {
        "id": "MLLXvlRjZR6c"
      },
      "outputs": [],
      "source": []
    },
    {
      "cell_type": "code",
      "execution_count": null,
      "metadata": {
        "id": "IjlYsg8eZR6c"
      },
      "outputs": [],
      "source": []
    },
    {
      "cell_type": "code",
      "execution_count": null,
      "metadata": {
        "id": "MOj8e779ZR6c"
      },
      "outputs": [],
      "source": []
    }
  ],
  "metadata": {
    "colab": {
      "collapsed_sections": [
        "C6c7l20dzARF"
      ],
      "provenance": [],
      "toc_visible": true
    },
    "kernelspec": {
      "display_name": "Python 3 (ipykernel)",
      "language": "python",
      "name": "python3"
    },
    "language_info": {
      "codemirror_mode": {
        "name": "ipython",
        "version": 3
      },
      "file_extension": ".py",
      "mimetype": "text/x-python",
      "name": "python",
      "nbconvert_exporter": "python",
      "pygments_lexer": "ipython3",
      "version": "3.9.13"
    }
  },
  "nbformat": 4,
  "nbformat_minor": 0
}